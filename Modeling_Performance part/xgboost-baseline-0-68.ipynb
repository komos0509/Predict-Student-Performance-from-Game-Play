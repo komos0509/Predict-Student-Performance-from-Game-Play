{
 "cells": [
  {
   "cell_type": "markdown",
   "id": "dce2891e",
   "metadata": {
    "papermill": {
     "duration": 0.008506,
     "end_time": "2023-04-12T01:07:13.803255",
     "exception": false,
     "start_time": "2023-04-12T01:07:13.794749",
     "status": "completed"
    },
    "tags": []
   },
   "source": [
    "# XGBoost Baseline - LB 0.678\n",
    "In this notebook we present a XGBoost baseline. We train GroupKFold models for each of the 18 questions. Our CV score is 0.678. We infer test using one of our KFold models. We can improve our CV and LB by engineering more features for our xgboost and/or trying different models (like other ML models and/or RNN and/or Transformer). Also we can improve our LB by using more KFold models OR training one model using all data (and the hyperparameters that we found from our KFold cross validation).\n",
    "\n",
    "**UPDATE** On March 20 2023, Kaggle doubled the size of train data. Therefore we updated this notebook to avoid memory error. We accomplish this by reading train data in chunks and feature engineering in chunks. Note that another way to avoid memory error is to use two notebooks. Train models in one notebook that has 32GB RAM (and save models), and then submit the required 8GB RAM notebook (with loaded models) as a second notebook. (Discussion [here][1]).\n",
    "\n",
    "[1]: https://www.kaggle.com/competitions/predict-student-performance-from-game-play/discussion/386218"
   ]
  },
  {
   "cell_type": "code",
   "execution_count": 1,
   "id": "eb4cf321",
   "metadata": {
    "execution": {
     "iopub.execute_input": "2023-04-12T01:07:13.821082Z",
     "iopub.status.busy": "2023-04-12T01:07:13.820295Z",
     "iopub.status.idle": "2023-04-12T01:07:15.362085Z",
     "shell.execute_reply": "2023-04-12T01:07:15.360336Z"
    },
    "papermill": {
     "duration": 1.554543,
     "end_time": "2023-04-12T01:07:15.365601",
     "exception": false,
     "start_time": "2023-04-12T01:07:13.811058",
     "status": "completed"
    },
    "tags": []
   },
   "outputs": [],
   "source": [
    "import pandas as pd, numpy as np, gc\n",
    "from sklearn.model_selection import KFold, GroupKFold\n",
    "from xgboost import XGBClassifier\n",
    "from sklearn.metrics import f1_score"
   ]
  },
  {
   "cell_type": "markdown",
   "id": "98a86dfc",
   "metadata": {
    "papermill": {
     "duration": 0.010426,
     "end_time": "2023-04-12T01:07:15.385610",
     "exception": false,
     "start_time": "2023-04-12T01:07:15.375184",
     "status": "completed"
    },
    "tags": []
   },
   "source": [
    "# Load Train Data and Labels\n",
    "On March 20 2023, Kaggle doubled the size of train data (discussion [here][1]). The train data is now 4.7GB! To avoid memory error, we will read the train data in as 10 pieces and feature engineer each piece before reading the next piece. This works because feature engineering shrinks the size of each piece.\n",
    "\n",
    "[1]: https://www.kaggle.com/competitions/predict-student-performance-from-game-play/discussion/396202"
   ]
  },
  {
   "cell_type": "code",
   "execution_count": 2,
   "id": "b9884558",
   "metadata": {
    "_kg_hide-input": true,
    "execution": {
     "iopub.execute_input": "2023-04-12T01:07:15.402523Z",
     "iopub.status.busy": "2023-04-12T01:07:15.401544Z",
     "iopub.status.idle": "2023-04-12T01:08:40.440388Z",
     "shell.execute_reply": "2023-04-12T01:08:40.439438Z"
    },
    "papermill": {
     "duration": 85.057965,
     "end_time": "2023-04-12T01:08:40.450866",
     "exception": false,
     "start_time": "2023-04-12T01:07:15.392901",
     "status": "completed"
    },
    "tags": []
   },
   "outputs": [
    {
     "name": "stdout",
     "output_type": "stream",
     "text": [
      "To avoid memory error, we will read train in 10 pieces of sizes:\n",
      "[2684191, 2631991, 2638304, 2657670, 2644229, 2629801, 2596616, 2602258, 2619995, 2591891]\n"
     ]
    }
   ],
   "source": [
    "# READ USER ID ONLY\n",
    "tmp = pd.read_csv(\"/kaggle/input/predict-student-performance-from-game-play/train.csv\",usecols=[0])\n",
    "tmp = tmp.groupby('session_id').session_id.agg('count')\n",
    "\n",
    "# COMPUTE READS AND SKIPS\n",
    "PIECES = 10\n",
    "CHUNK = int( np.ceil(len(tmp)/PIECES) )\n",
    "\n",
    "reads = []\n",
    "skips = [0]\n",
    "for k in range(PIECES):\n",
    "    a = k*CHUNK\n",
    "    b = (k+1)*CHUNK\n",
    "    if b>len(tmp): b=len(tmp)\n",
    "    r = tmp.iloc[a:b].sum()\n",
    "    reads.append(r)\n",
    "    skips.append(skips[-1]+r)\n",
    "    \n",
    "print(f'To avoid memory error, we will read train in {PIECES} pieces of sizes:')\n",
    "print(reads)"
   ]
  },
  {
   "cell_type": "code",
   "execution_count": 3,
   "id": "87974477",
   "metadata": {
    "execution": {
     "iopub.execute_input": "2023-04-12T01:08:40.468259Z",
     "iopub.status.busy": "2023-04-12T01:08:40.467238Z",
     "iopub.status.idle": "2023-04-12T01:08:47.718753Z",
     "shell.execute_reply": "2023-04-12T01:08:47.717832Z"
    },
    "papermill": {
     "duration": 7.262794,
     "end_time": "2023-04-12T01:08:47.721343",
     "exception": false,
     "start_time": "2023-04-12T01:08:40.458549",
     "status": "completed"
    },
    "tags": []
   },
   "outputs": [
    {
     "name": "stdout",
     "output_type": "stream",
     "text": [
      "Train size of first piece: (2684191, 20)\n"
     ]
    },
    {
     "data": {
      "text/html": [
       "<div>\n",
       "<style scoped>\n",
       "    .dataframe tbody tr th:only-of-type {\n",
       "        vertical-align: middle;\n",
       "    }\n",
       "\n",
       "    .dataframe tbody tr th {\n",
       "        vertical-align: top;\n",
       "    }\n",
       "\n",
       "    .dataframe thead th {\n",
       "        text-align: right;\n",
       "    }\n",
       "</style>\n",
       "<table border=\"1\" class=\"dataframe\">\n",
       "  <thead>\n",
       "    <tr style=\"text-align: right;\">\n",
       "      <th></th>\n",
       "      <th>session_id</th>\n",
       "      <th>index</th>\n",
       "      <th>elapsed_time</th>\n",
       "      <th>event_name</th>\n",
       "      <th>name</th>\n",
       "      <th>level</th>\n",
       "      <th>page</th>\n",
       "      <th>room_coor_x</th>\n",
       "      <th>room_coor_y</th>\n",
       "      <th>screen_coor_x</th>\n",
       "      <th>screen_coor_y</th>\n",
       "      <th>hover_duration</th>\n",
       "      <th>text</th>\n",
       "      <th>fqid</th>\n",
       "      <th>room_fqid</th>\n",
       "      <th>text_fqid</th>\n",
       "      <th>fullscreen</th>\n",
       "      <th>hq</th>\n",
       "      <th>music</th>\n",
       "      <th>level_group</th>\n",
       "    </tr>\n",
       "  </thead>\n",
       "  <tbody>\n",
       "    <tr>\n",
       "      <th>0</th>\n",
       "      <td>20090312431273200</td>\n",
       "      <td>0</td>\n",
       "      <td>0</td>\n",
       "      <td>cutscene_click</td>\n",
       "      <td>basic</td>\n",
       "      <td>0</td>\n",
       "      <td>NaN</td>\n",
       "      <td>-413.991405</td>\n",
       "      <td>-159.314686</td>\n",
       "      <td>380.0</td>\n",
       "      <td>494.0</td>\n",
       "      <td>NaN</td>\n",
       "      <td>undefined</td>\n",
       "      <td>intro</td>\n",
       "      <td>tunic.historicalsociety.closet</td>\n",
       "      <td>tunic.historicalsociety.closet.intro</td>\n",
       "      <td>0</td>\n",
       "      <td>0</td>\n",
       "      <td>1</td>\n",
       "      <td>0-4</td>\n",
       "    </tr>\n",
       "    <tr>\n",
       "      <th>1</th>\n",
       "      <td>20090312431273200</td>\n",
       "      <td>1</td>\n",
       "      <td>1323</td>\n",
       "      <td>person_click</td>\n",
       "      <td>basic</td>\n",
       "      <td>0</td>\n",
       "      <td>NaN</td>\n",
       "      <td>-413.991405</td>\n",
       "      <td>-159.314686</td>\n",
       "      <td>380.0</td>\n",
       "      <td>494.0</td>\n",
       "      <td>NaN</td>\n",
       "      <td>Whatcha doing over there, Jo?</td>\n",
       "      <td>gramps</td>\n",
       "      <td>tunic.historicalsociety.closet</td>\n",
       "      <td>tunic.historicalsociety.closet.gramps.intro_0_...</td>\n",
       "      <td>0</td>\n",
       "      <td>0</td>\n",
       "      <td>1</td>\n",
       "      <td>0-4</td>\n",
       "    </tr>\n",
       "    <tr>\n",
       "      <th>2</th>\n",
       "      <td>20090312431273200</td>\n",
       "      <td>2</td>\n",
       "      <td>831</td>\n",
       "      <td>person_click</td>\n",
       "      <td>basic</td>\n",
       "      <td>0</td>\n",
       "      <td>NaN</td>\n",
       "      <td>-413.991405</td>\n",
       "      <td>-159.314686</td>\n",
       "      <td>380.0</td>\n",
       "      <td>494.0</td>\n",
       "      <td>NaN</td>\n",
       "      <td>Just talking to Teddy.</td>\n",
       "      <td>gramps</td>\n",
       "      <td>tunic.historicalsociety.closet</td>\n",
       "      <td>tunic.historicalsociety.closet.gramps.intro_0_...</td>\n",
       "      <td>0</td>\n",
       "      <td>0</td>\n",
       "      <td>1</td>\n",
       "      <td>0-4</td>\n",
       "    </tr>\n",
       "    <tr>\n",
       "      <th>3</th>\n",
       "      <td>20090312431273200</td>\n",
       "      <td>3</td>\n",
       "      <td>1147</td>\n",
       "      <td>person_click</td>\n",
       "      <td>basic</td>\n",
       "      <td>0</td>\n",
       "      <td>NaN</td>\n",
       "      <td>-413.991405</td>\n",
       "      <td>-159.314686</td>\n",
       "      <td>380.0</td>\n",
       "      <td>494.0</td>\n",
       "      <td>NaN</td>\n",
       "      <td>I gotta run to my meeting!</td>\n",
       "      <td>gramps</td>\n",
       "      <td>tunic.historicalsociety.closet</td>\n",
       "      <td>tunic.historicalsociety.closet.gramps.intro_0_...</td>\n",
       "      <td>0</td>\n",
       "      <td>0</td>\n",
       "      <td>1</td>\n",
       "      <td>0-4</td>\n",
       "    </tr>\n",
       "    <tr>\n",
       "      <th>4</th>\n",
       "      <td>20090312431273200</td>\n",
       "      <td>4</td>\n",
       "      <td>1863</td>\n",
       "      <td>person_click</td>\n",
       "      <td>basic</td>\n",
       "      <td>0</td>\n",
       "      <td>NaN</td>\n",
       "      <td>-412.991405</td>\n",
       "      <td>-159.314686</td>\n",
       "      <td>381.0</td>\n",
       "      <td>494.0</td>\n",
       "      <td>NaN</td>\n",
       "      <td>Can I come, Gramps?</td>\n",
       "      <td>gramps</td>\n",
       "      <td>tunic.historicalsociety.closet</td>\n",
       "      <td>tunic.historicalsociety.closet.gramps.intro_0_...</td>\n",
       "      <td>0</td>\n",
       "      <td>0</td>\n",
       "      <td>1</td>\n",
       "      <td>0-4</td>\n",
       "    </tr>\n",
       "  </tbody>\n",
       "</table>\n",
       "</div>"
      ],
      "text/plain": [
       "          session_id  index  elapsed_time      event_name   name  level  page  \\\n",
       "0  20090312431273200      0             0  cutscene_click  basic      0   NaN   \n",
       "1  20090312431273200      1          1323    person_click  basic      0   NaN   \n",
       "2  20090312431273200      2           831    person_click  basic      0   NaN   \n",
       "3  20090312431273200      3          1147    person_click  basic      0   NaN   \n",
       "4  20090312431273200      4          1863    person_click  basic      0   NaN   \n",
       "\n",
       "   room_coor_x  room_coor_y  screen_coor_x  screen_coor_y  hover_duration  \\\n",
       "0  -413.991405  -159.314686          380.0          494.0             NaN   \n",
       "1  -413.991405  -159.314686          380.0          494.0             NaN   \n",
       "2  -413.991405  -159.314686          380.0          494.0             NaN   \n",
       "3  -413.991405  -159.314686          380.0          494.0             NaN   \n",
       "4  -412.991405  -159.314686          381.0          494.0             NaN   \n",
       "\n",
       "                            text    fqid                       room_fqid  \\\n",
       "0                      undefined   intro  tunic.historicalsociety.closet   \n",
       "1  Whatcha doing over there, Jo?  gramps  tunic.historicalsociety.closet   \n",
       "2         Just talking to Teddy.  gramps  tunic.historicalsociety.closet   \n",
       "3     I gotta run to my meeting!  gramps  tunic.historicalsociety.closet   \n",
       "4            Can I come, Gramps?  gramps  tunic.historicalsociety.closet   \n",
       "\n",
       "                                           text_fqid  fullscreen  hq  music  \\\n",
       "0               tunic.historicalsociety.closet.intro           0   0      1   \n",
       "1  tunic.historicalsociety.closet.gramps.intro_0_...           0   0      1   \n",
       "2  tunic.historicalsociety.closet.gramps.intro_0_...           0   0      1   \n",
       "3  tunic.historicalsociety.closet.gramps.intro_0_...           0   0      1   \n",
       "4  tunic.historicalsociety.closet.gramps.intro_0_...           0   0      1   \n",
       "\n",
       "  level_group  \n",
       "0         0-4  \n",
       "1         0-4  \n",
       "2         0-4  \n",
       "3         0-4  \n",
       "4         0-4  "
      ]
     },
     "execution_count": 3,
     "metadata": {},
     "output_type": "execute_result"
    }
   ],
   "source": [
    "train = pd.read_csv('/kaggle/input/predict-student-performance-from-game-play/train.csv', nrows=reads[0])\n",
    "print('Train size of first piece:', train.shape )\n",
    "train.head()"
   ]
  },
  {
   "cell_type": "code",
   "execution_count": 4,
   "id": "487af0a1",
   "metadata": {
    "execution": {
     "iopub.execute_input": "2023-04-12T01:08:47.740173Z",
     "iopub.status.busy": "2023-04-12T01:08:47.738525Z",
     "iopub.status.idle": "2023-04-12T01:08:48.905793Z",
     "shell.execute_reply": "2023-04-12T01:08:48.904799Z"
    },
    "papermill": {
     "duration": 1.178969,
     "end_time": "2023-04-12T01:08:48.908111",
     "exception": false,
     "start_time": "2023-04-12T01:08:47.729142",
     "status": "completed"
    },
    "tags": []
   },
   "outputs": [
    {
     "name": "stdout",
     "output_type": "stream",
     "text": [
      "(424116, 4)\n"
     ]
    },
    {
     "data": {
      "text/html": [
       "<div>\n",
       "<style scoped>\n",
       "    .dataframe tbody tr th:only-of-type {\n",
       "        vertical-align: middle;\n",
       "    }\n",
       "\n",
       "    .dataframe tbody tr th {\n",
       "        vertical-align: top;\n",
       "    }\n",
       "\n",
       "    .dataframe thead th {\n",
       "        text-align: right;\n",
       "    }\n",
       "</style>\n",
       "<table border=\"1\" class=\"dataframe\">\n",
       "  <thead>\n",
       "    <tr style=\"text-align: right;\">\n",
       "      <th></th>\n",
       "      <th>session_id</th>\n",
       "      <th>correct</th>\n",
       "      <th>session</th>\n",
       "      <th>q</th>\n",
       "    </tr>\n",
       "  </thead>\n",
       "  <tbody>\n",
       "    <tr>\n",
       "      <th>0</th>\n",
       "      <td>20090312431273200_q1</td>\n",
       "      <td>1</td>\n",
       "      <td>20090312431273200</td>\n",
       "      <td>1</td>\n",
       "    </tr>\n",
       "    <tr>\n",
       "      <th>1</th>\n",
       "      <td>20090312433251036_q1</td>\n",
       "      <td>0</td>\n",
       "      <td>20090312433251036</td>\n",
       "      <td>1</td>\n",
       "    </tr>\n",
       "    <tr>\n",
       "      <th>2</th>\n",
       "      <td>20090312455206810_q1</td>\n",
       "      <td>1</td>\n",
       "      <td>20090312455206810</td>\n",
       "      <td>1</td>\n",
       "    </tr>\n",
       "    <tr>\n",
       "      <th>3</th>\n",
       "      <td>20090313091715820_q1</td>\n",
       "      <td>0</td>\n",
       "      <td>20090313091715820</td>\n",
       "      <td>1</td>\n",
       "    </tr>\n",
       "    <tr>\n",
       "      <th>4</th>\n",
       "      <td>20090313571836404_q1</td>\n",
       "      <td>1</td>\n",
       "      <td>20090313571836404</td>\n",
       "      <td>1</td>\n",
       "    </tr>\n",
       "  </tbody>\n",
       "</table>\n",
       "</div>"
      ],
      "text/plain": [
       "             session_id  correct            session  q\n",
       "0  20090312431273200_q1        1  20090312431273200  1\n",
       "1  20090312433251036_q1        0  20090312433251036  1\n",
       "2  20090312455206810_q1        1  20090312455206810  1\n",
       "3  20090313091715820_q1        0  20090313091715820  1\n",
       "4  20090313571836404_q1        1  20090313571836404  1"
      ]
     },
     "execution_count": 4,
     "metadata": {},
     "output_type": "execute_result"
    }
   ],
   "source": [
    "targets = pd.read_csv('/kaggle/input/predict-student-performance-from-game-play/train_labels.csv')\n",
    "targets['session'] = targets.session_id.apply(lambda x: int(x.split('_')[0]) )\n",
    "targets['q'] = targets.session_id.apply(lambda x: int(x.split('_')[-1][1:]) )\n",
    "print( targets.shape )\n",
    "targets.head()"
   ]
  },
  {
   "cell_type": "markdown",
   "id": "06b26f56",
   "metadata": {
    "papermill": {
     "duration": 0.008853,
     "end_time": "2023-04-12T01:08:48.924942",
     "exception": false,
     "start_time": "2023-04-12T01:08:48.916089",
     "status": "completed"
    },
    "tags": []
   },
   "source": [
    "# Feature Engineer\n",
    "We create basic aggregate features. Try creating more features to boost CV and LB! The idea for EVENTS feature is from [here][1]\n",
    "\n",
    "[1]: https://www.kaggle.com/code/kimtaehun/lightgbm-baseline-with-aggregated-log-data"
   ]
  },
  {
   "cell_type": "code",
   "execution_count": 5,
   "id": "c952ad0e",
   "metadata": {
    "execution": {
     "iopub.execute_input": "2023-04-12T01:08:48.943128Z",
     "iopub.status.busy": "2023-04-12T01:08:48.942011Z",
     "iopub.status.idle": "2023-04-12T01:08:48.952789Z",
     "shell.execute_reply": "2023-04-12T01:08:48.951660Z"
    },
    "papermill": {
     "duration": 0.022742,
     "end_time": "2023-04-12T01:08:48.955565",
     "exception": false,
     "start_time": "2023-04-12T01:08:48.932823",
     "status": "completed"
    },
    "tags": []
   },
   "outputs": [],
   "source": [
    "# 파생 변수 추가 함\n",
    "def Derived_Variable(train):\n",
    "    # 날짜 변수 추가\n",
    "    session_ids = pd.DataFrame()\n",
    "    session_ids['session_id'] = train['session_id'].unique()\n",
    "    train['year'] = session_ids['session_id'].apply(lambda x: int(str(x)[:2])).astype(np.uint8)\n",
    "    train['month'] = session_ids['session_id'].apply(lambda x: int(str(x)[2:4]) + 1).astype(np.uint8)\n",
    "    train['weekday'] = session_ids['session_id'].apply(lambda x: int(str(x)[4:6])).astype(np.uint8)\n",
    "    train['hour'] = session_ids['session_id'].apply(lambda x: int(str(x)[6:8])).astype(np.uint8)\n",
    "    train['year'] = train['year'] + 2000\n",
    "    train['date'] = (train['year']).astype(str) + '-' + (train['month']).astype(str)\n",
    "    \n",
    "    # fqid 새로운 변수 추가 (room_fqid, text_fqid)\n",
    "    train['room_fqid_2'] = train['room_fqid'].apply(lambda x: x.split('.')[1])\n",
    "    train['room_fqid_3'] = train['room_fqid'].apply(lambda x: x.split('.')[2])\n",
    "    \n",
    "    return train\n",
    "    "
   ]
  },
  {
   "cell_type": "code",
   "execution_count": 6,
   "id": "d67feb8e",
   "metadata": {
    "execution": {
     "iopub.execute_input": "2023-04-12T01:08:48.973721Z",
     "iopub.status.busy": "2023-04-12T01:08:48.973344Z",
     "iopub.status.idle": "2023-04-12T01:08:48.981321Z",
     "shell.execute_reply": "2023-04-12T01:08:48.979935Z"
    },
    "papermill": {
     "duration": 0.020141,
     "end_time": "2023-04-12T01:08:48.984103",
     "exception": false,
     "start_time": "2023-04-12T01:08:48.963962",
     "status": "completed"
    },
    "tags": []
   },
   "outputs": [],
   "source": [
    "CATS = ['event_name', 'fqid', 'text', 'date', 'room_fqid_2', 'room_fqid_3'\n",
    "       ]\n",
    "NUMS = ['elapsed_time','level','page','room_coor_x', 'room_coor_y', 'year', 'weekday', 'hour',\n",
    "        'screen_coor_x', 'screen_coor_y', 'hover_duration']\n",
    "\n",
    "BINS = ['fullscreen', 'hq', 'music']\n",
    "\n",
    "# https://www.kaggle.com/code/kimtaehun/lightgbm-baseline-with-aggregated-log-data\n",
    "EVENTS = ['navigate_click','person_click','cutscene_click','object_click',\n",
    "          'map_hover','notification_click','map_click','observation_click',\n",
    "          'checkpoint']"
   ]
  },
  {
   "cell_type": "code",
   "execution_count": 7,
   "id": "886db1f1",
   "metadata": {
    "execution": {
     "iopub.execute_input": "2023-04-12T01:08:49.002005Z",
     "iopub.status.busy": "2023-04-12T01:08:49.001606Z",
     "iopub.status.idle": "2023-04-12T01:08:49.013174Z",
     "shell.execute_reply": "2023-04-12T01:08:49.012236Z"
    },
    "papermill": {
     "duration": 0.023049,
     "end_time": "2023-04-12T01:08:49.015319",
     "exception": false,
     "start_time": "2023-04-12T01:08:48.992270",
     "status": "completed"
    },
    "tags": []
   },
   "outputs": [],
   "source": [
    "def feature_engineer(train):\n",
    "    \n",
    "    dfs = []\n",
    "    for c in CATS:\n",
    "        tmp = train.groupby(['session_id','level_group'])[c].agg('nunique')\n",
    "        tmp.name = tmp.name + '_nunique'\n",
    "        dfs.append(tmp)\n",
    "    for c in NUMS:\n",
    "        tmp = train.groupby(['session_id','level_group'])[c].agg('mean')\n",
    "        tmp.name = tmp.name + '_mean'\n",
    "        dfs.append(tmp)\n",
    "    for c in NUMS:\n",
    "        tmp = train.groupby(['session_id','level_group'])[c].agg('std')\n",
    "        tmp.name = tmp.name + '_std'\n",
    "        dfs.append(tmp)\n",
    "    for c in BINS:\n",
    "        tmp = train.groupby(['session_id','level_group'])[c].agg('sum')\n",
    "        tmp.name = tmp.name + '_sum'\n",
    "        dfs.append(tmp)\n",
    "    for c in EVENTS: \n",
    "        train[c] = (train.event_name == c).astype('int8')\n",
    "    for c in EVENTS + ['elapsed_time']:\n",
    "        tmp = train.groupby(['session_id','level_group'])[c].agg('sum')\n",
    "        tmp.name = tmp.name + '_sum'\n",
    "        dfs.append(tmp)\n",
    "    train = train.drop(EVENTS,axis=1)\n",
    "    \n",
    "    df = pd.concat(dfs,axis=1)\n",
    "    df = df.fillna(-1)\n",
    "    df = df.reset_index()\n",
    "    df = df.set_index('session_id')\n",
    "    return df"
   ]
  },
  {
   "cell_type": "code",
   "execution_count": 8,
   "id": "f4e4a108",
   "metadata": {
    "execution": {
     "iopub.execute_input": "2023-04-12T01:08:49.033418Z",
     "iopub.status.busy": "2023-04-12T01:08:49.033030Z",
     "iopub.status.idle": "2023-04-12T01:08:49.039976Z",
     "shell.execute_reply": "2023-04-12T01:08:49.038913Z"
    },
    "papermill": {
     "duration": 0.01876,
     "end_time": "2023-04-12T01:08:49.042148",
     "exception": false,
     "start_time": "2023-04-12T01:08:49.023388",
     "status": "completed"
    },
    "tags": []
   },
   "outputs": [],
   "source": [
    "# 이상치 변환 함수\n",
    "def remove_out(dataframe, remove_col):\n",
    "    dff = dataframe\n",
    "    for k in remove_col:\n",
    "        level_q1 = dff[k].quantile(0.25)\n",
    "        level_q3 = dff[k].quantile(0.75)\n",
    "        IQR = level_q3 - level_q1\n",
    "        rev_range = 1.5 # 제거 범위 조절 변수\n",
    "        # 이상치 변환\n",
    "        dff.loc[dff[k] > level_q3 + (rev_range * IQR), k] = level_q3 + (rev_range * IQR)\n",
    "        dff.loc[dff[k] < level_q1 - (rev_range * IQR), k] = level_q1 + (rev_range * IQR)\n",
    "        \n",
    "    return dff"
   ]
  },
  {
   "cell_type": "code",
   "execution_count": 9,
   "id": "f631282c",
   "metadata": {
    "execution": {
     "iopub.execute_input": "2023-04-12T01:08:49.060824Z",
     "iopub.status.busy": "2023-04-12T01:08:49.060097Z",
     "iopub.status.idle": "2023-04-12T01:17:16.526565Z",
     "shell.execute_reply": "2023-04-12T01:17:16.525010Z"
    },
    "papermill": {
     "duration": 507.481912,
     "end_time": "2023-04-12T01:17:16.532055",
     "exception": false,
     "start_time": "2023-04-12T01:08:49.050143",
     "status": "completed"
    },
    "tags": []
   },
   "outputs": [
    {
     "name": "stdout",
     "output_type": "stream",
     "text": [
      "Processing train as 10 pieces to avoid memory error... \n",
      "0 , 1 , 2 , 3 , 4 , 5 , 6 , 7 , 8 , 9 , \n",
      "\n",
      "Shape of all train data after feature engineering: (70686, 42)\n",
      "CPU times: user 6min 44s, sys: 53.9 s, total: 7min 38s\n",
      "Wall time: 8min 27s\n"
     ]
    },
    {
     "data": {
      "text/html": [
       "<div>\n",
       "<style scoped>\n",
       "    .dataframe tbody tr th:only-of-type {\n",
       "        vertical-align: middle;\n",
       "    }\n",
       "\n",
       "    .dataframe tbody tr th {\n",
       "        vertical-align: top;\n",
       "    }\n",
       "\n",
       "    .dataframe thead th {\n",
       "        text-align: right;\n",
       "    }\n",
       "</style>\n",
       "<table border=\"1\" class=\"dataframe\">\n",
       "  <thead>\n",
       "    <tr style=\"text-align: right;\">\n",
       "      <th></th>\n",
       "      <th>level_group</th>\n",
       "      <th>event_name_nunique</th>\n",
       "      <th>fqid_nunique</th>\n",
       "      <th>text_nunique</th>\n",
       "      <th>date_nunique</th>\n",
       "      <th>room_fqid_2_nunique</th>\n",
       "      <th>room_fqid_3_nunique</th>\n",
       "      <th>elapsed_time_mean</th>\n",
       "      <th>level_mean</th>\n",
       "      <th>page_mean</th>\n",
       "      <th>...</th>\n",
       "      <th>navigate_click_sum</th>\n",
       "      <th>person_click_sum</th>\n",
       "      <th>cutscene_click_sum</th>\n",
       "      <th>object_click_sum</th>\n",
       "      <th>map_hover_sum</th>\n",
       "      <th>notification_click_sum</th>\n",
       "      <th>map_click_sum</th>\n",
       "      <th>observation_click_sum</th>\n",
       "      <th>checkpoint_sum</th>\n",
       "      <th>elapsed_time_sum</th>\n",
       "    </tr>\n",
       "    <tr>\n",
       "      <th>session_id</th>\n",
       "      <th></th>\n",
       "      <th></th>\n",
       "      <th></th>\n",
       "      <th></th>\n",
       "      <th></th>\n",
       "      <th></th>\n",
       "      <th></th>\n",
       "      <th></th>\n",
       "      <th></th>\n",
       "      <th></th>\n",
       "      <th></th>\n",
       "      <th></th>\n",
       "      <th></th>\n",
       "      <th></th>\n",
       "      <th></th>\n",
       "      <th></th>\n",
       "      <th></th>\n",
       "      <th></th>\n",
       "      <th></th>\n",
       "      <th></th>\n",
       "      <th></th>\n",
       "    </tr>\n",
       "  </thead>\n",
       "  <tbody>\n",
       "    <tr>\n",
       "      <th>20090312431273200</th>\n",
       "      <td>0-4</td>\n",
       "      <td>10</td>\n",
       "      <td>30</td>\n",
       "      <td>56</td>\n",
       "      <td>2</td>\n",
       "      <td>3</td>\n",
       "      <td>7</td>\n",
       "      <td>8.579356e+04</td>\n",
       "      <td>1.945455</td>\n",
       "      <td>-1.0</td>\n",
       "      <td>...</td>\n",
       "      <td>81.0</td>\n",
       "      <td>22.0</td>\n",
       "      <td>28.0</td>\n",
       "      <td>11.0</td>\n",
       "      <td>4.0</td>\n",
       "      <td>8</td>\n",
       "      <td>2.0</td>\n",
       "      <td>4</td>\n",
       "      <td>1</td>\n",
       "      <td>14155937</td>\n",
       "    </tr>\n",
       "    <tr>\n",
       "      <th>20090312431273200</th>\n",
       "      <td>13-22</td>\n",
       "      <td>10</td>\n",
       "      <td>49</td>\n",
       "      <td>168</td>\n",
       "      <td>1</td>\n",
       "      <td>6</td>\n",
       "      <td>9</td>\n",
       "      <td>1.040601e+06</td>\n",
       "      <td>17.402381</td>\n",
       "      <td>-1.0</td>\n",
       "      <td>...</td>\n",
       "      <td>170.0</td>\n",
       "      <td>123.0</td>\n",
       "      <td>60.0</td>\n",
       "      <td>20.0</td>\n",
       "      <td>14.0</td>\n",
       "      <td>10</td>\n",
       "      <td>6.0</td>\n",
       "      <td>3</td>\n",
       "      <td>1</td>\n",
       "      <td>437052322</td>\n",
       "    </tr>\n",
       "    <tr>\n",
       "      <th>20090312431273200</th>\n",
       "      <td>5-12</td>\n",
       "      <td>10</td>\n",
       "      <td>39</td>\n",
       "      <td>124</td>\n",
       "      <td>1</td>\n",
       "      <td>6</td>\n",
       "      <td>7</td>\n",
       "      <td>3.572052e+05</td>\n",
       "      <td>8.054054</td>\n",
       "      <td>-1.0</td>\n",
       "      <td>...</td>\n",
       "      <td>103.0</td>\n",
       "      <td>104.0</td>\n",
       "      <td>12.0</td>\n",
       "      <td>28.0</td>\n",
       "      <td>9.0</td>\n",
       "      <td>9</td>\n",
       "      <td>8.0</td>\n",
       "      <td>1</td>\n",
       "      <td>1</td>\n",
       "      <td>105732736</td>\n",
       "    </tr>\n",
       "    <tr>\n",
       "      <th>20090312433251036</th>\n",
       "      <td>0-4</td>\n",
       "      <td>11</td>\n",
       "      <td>22</td>\n",
       "      <td>49</td>\n",
       "      <td>1</td>\n",
       "      <td>3</td>\n",
       "      <td>6</td>\n",
       "      <td>9.763342e+04</td>\n",
       "      <td>1.870504</td>\n",
       "      <td>0.0</td>\n",
       "      <td>...</td>\n",
       "      <td>49.0</td>\n",
       "      <td>18.0</td>\n",
       "      <td>36.0</td>\n",
       "      <td>15.0</td>\n",
       "      <td>3.0</td>\n",
       "      <td>5</td>\n",
       "      <td>3.0</td>\n",
       "      <td>2</td>\n",
       "      <td>1</td>\n",
       "      <td>13571045</td>\n",
       "    </tr>\n",
       "    <tr>\n",
       "      <th>20090312433251036</th>\n",
       "      <td>13-22</td>\n",
       "      <td>11</td>\n",
       "      <td>73</td>\n",
       "      <td>183</td>\n",
       "      <td>2</td>\n",
       "      <td>9</td>\n",
       "      <td>11</td>\n",
       "      <td>2.498852e+06</td>\n",
       "      <td>17.762529</td>\n",
       "      <td>5.1</td>\n",
       "      <td>...</td>\n",
       "      <td>637.0</td>\n",
       "      <td>145.0</td>\n",
       "      <td>65.0</td>\n",
       "      <td>83.0</td>\n",
       "      <td>186.0</td>\n",
       "      <td>14</td>\n",
       "      <td>45.0</td>\n",
       "      <td>5</td>\n",
       "      <td>1</td>\n",
       "      <td>3241011333</td>\n",
       "    </tr>\n",
       "  </tbody>\n",
       "</table>\n",
       "<p>5 rows × 42 columns</p>\n",
       "</div>"
      ],
      "text/plain": [
       "                  level_group  event_name_nunique  fqid_nunique  text_nunique  \\\n",
       "session_id                                                                      \n",
       "20090312431273200         0-4                  10            30            56   \n",
       "20090312431273200       13-22                  10            49           168   \n",
       "20090312431273200        5-12                  10            39           124   \n",
       "20090312433251036         0-4                  11            22            49   \n",
       "20090312433251036       13-22                  11            73           183   \n",
       "\n",
       "                   date_nunique  room_fqid_2_nunique  room_fqid_3_nunique  \\\n",
       "session_id                                                                  \n",
       "20090312431273200             2                    3                    7   \n",
       "20090312431273200             1                    6                    9   \n",
       "20090312431273200             1                    6                    7   \n",
       "20090312433251036             1                    3                    6   \n",
       "20090312433251036             2                    9                   11   \n",
       "\n",
       "                   elapsed_time_mean  level_mean  page_mean  ...  \\\n",
       "session_id                                                   ...   \n",
       "20090312431273200       8.579356e+04    1.945455       -1.0  ...   \n",
       "20090312431273200       1.040601e+06   17.402381       -1.0  ...   \n",
       "20090312431273200       3.572052e+05    8.054054       -1.0  ...   \n",
       "20090312433251036       9.763342e+04    1.870504        0.0  ...   \n",
       "20090312433251036       2.498852e+06   17.762529        5.1  ...   \n",
       "\n",
       "                   navigate_click_sum  person_click_sum  cutscene_click_sum  \\\n",
       "session_id                                                                    \n",
       "20090312431273200                81.0              22.0                28.0   \n",
       "20090312431273200               170.0             123.0                60.0   \n",
       "20090312431273200               103.0             104.0                12.0   \n",
       "20090312433251036                49.0              18.0                36.0   \n",
       "20090312433251036               637.0             145.0                65.0   \n",
       "\n",
       "                   object_click_sum  map_hover_sum  notification_click_sum  \\\n",
       "session_id                                                                   \n",
       "20090312431273200              11.0            4.0                       8   \n",
       "20090312431273200              20.0           14.0                      10   \n",
       "20090312431273200              28.0            9.0                       9   \n",
       "20090312433251036              15.0            3.0                       5   \n",
       "20090312433251036              83.0          186.0                      14   \n",
       "\n",
       "                   map_click_sum  observation_click_sum  checkpoint_sum  \\\n",
       "session_id                                                                \n",
       "20090312431273200            2.0                      4               1   \n",
       "20090312431273200            6.0                      3               1   \n",
       "20090312431273200            8.0                      1               1   \n",
       "20090312433251036            3.0                      2               1   \n",
       "20090312433251036           45.0                      5               1   \n",
       "\n",
       "                   elapsed_time_sum  \n",
       "session_id                           \n",
       "20090312431273200          14155937  \n",
       "20090312431273200         437052322  \n",
       "20090312431273200         105732736  \n",
       "20090312433251036          13571045  \n",
       "20090312433251036        3241011333  \n",
       "\n",
       "[5 rows x 42 columns]"
      ]
     },
     "execution_count": 9,
     "metadata": {},
     "output_type": "execute_result"
    }
   ],
   "source": [
    "%%time\n",
    "\n",
    "# PROCESS TRAIN DATA IN PIECES\n",
    "all_pieces = []\n",
    "print(f'Processing train as {PIECES} pieces to avoid memory error... ')\n",
    "for k in range(PIECES):\n",
    "    print(k,', ',end='')\n",
    "    SKIPS = 0\n",
    "    if k>0: SKIPS = range(1,skips[k]+1)\n",
    "    train = pd.read_csv('/kaggle/input/predict-student-performance-from-game-play/train.csv',\n",
    "                        nrows=reads[k], skiprows=SKIPS)\n",
    "    # 파생 변수 추가\n",
    "    train = Derived_Variable(train)\n",
    "    \n",
    "    df = feature_engineer(train)\n",
    "    all_pieces.append(df)\n",
    "    \n",
    "# CONCATENATE ALL PIECES\n",
    "print('\\n')\n",
    "del train; gc.collect()\n",
    "df = pd.concat(all_pieces, axis=0)\n",
    "print('Shape of all train data after feature engineering:', df.shape )\n",
    "df.head()"
   ]
  },
  {
   "cell_type": "code",
   "execution_count": 10,
   "id": "9f3ed6c8",
   "metadata": {
    "execution": {
     "iopub.execute_input": "2023-04-12T01:17:16.553817Z",
     "iopub.status.busy": "2023-04-12T01:17:16.552701Z",
     "iopub.status.idle": "2023-04-12T01:17:16.750890Z",
     "shell.execute_reply": "2023-04-12T01:17:16.749554Z"
    },
    "papermill": {
     "duration": 0.212215,
     "end_time": "2023-04-12T01:17:16.753984",
     "exception": false,
     "start_time": "2023-04-12T01:17:16.541769",
     "status": "completed"
    },
    "tags": []
   },
   "outputs": [],
   "source": [
    "# 이상치 변\n",
    "remove_col = df.columns[1:-3]\n",
    "df = remove_out(df, remove_col)"
   ]
  },
  {
   "cell_type": "code",
   "execution_count": 11,
   "id": "88b0e9c8",
   "metadata": {
    "execution": {
     "iopub.execute_input": "2023-04-12T01:17:16.775521Z",
     "iopub.status.busy": "2023-04-12T01:17:16.775050Z",
     "iopub.status.idle": "2023-04-12T01:17:16.806154Z",
     "shell.execute_reply": "2023-04-12T01:17:16.805033Z"
    },
    "papermill": {
     "duration": 0.045386,
     "end_time": "2023-04-12T01:17:16.809190",
     "exception": false,
     "start_time": "2023-04-12T01:17:16.763804",
     "status": "completed"
    },
    "tags": []
   },
   "outputs": [
    {
     "data": {
      "text/html": [
       "<div>\n",
       "<style scoped>\n",
       "    .dataframe tbody tr th:only-of-type {\n",
       "        vertical-align: middle;\n",
       "    }\n",
       "\n",
       "    .dataframe tbody tr th {\n",
       "        vertical-align: top;\n",
       "    }\n",
       "\n",
       "    .dataframe thead th {\n",
       "        text-align: right;\n",
       "    }\n",
       "</style>\n",
       "<table border=\"1\" class=\"dataframe\">\n",
       "  <thead>\n",
       "    <tr style=\"text-align: right;\">\n",
       "      <th></th>\n",
       "      <th>level_group</th>\n",
       "      <th>event_name_nunique</th>\n",
       "      <th>fqid_nunique</th>\n",
       "      <th>text_nunique</th>\n",
       "      <th>date_nunique</th>\n",
       "      <th>room_fqid_2_nunique</th>\n",
       "      <th>room_fqid_3_nunique</th>\n",
       "      <th>elapsed_time_mean</th>\n",
       "      <th>level_mean</th>\n",
       "      <th>page_mean</th>\n",
       "      <th>...</th>\n",
       "      <th>navigate_click_sum</th>\n",
       "      <th>person_click_sum</th>\n",
       "      <th>cutscene_click_sum</th>\n",
       "      <th>object_click_sum</th>\n",
       "      <th>map_hover_sum</th>\n",
       "      <th>notification_click_sum</th>\n",
       "      <th>map_click_sum</th>\n",
       "      <th>observation_click_sum</th>\n",
       "      <th>checkpoint_sum</th>\n",
       "      <th>elapsed_time_sum</th>\n",
       "    </tr>\n",
       "    <tr>\n",
       "      <th>session_id</th>\n",
       "      <th></th>\n",
       "      <th></th>\n",
       "      <th></th>\n",
       "      <th></th>\n",
       "      <th></th>\n",
       "      <th></th>\n",
       "      <th></th>\n",
       "      <th></th>\n",
       "      <th></th>\n",
       "      <th></th>\n",
       "      <th></th>\n",
       "      <th></th>\n",
       "      <th></th>\n",
       "      <th></th>\n",
       "      <th></th>\n",
       "      <th></th>\n",
       "      <th></th>\n",
       "      <th></th>\n",
       "      <th></th>\n",
       "      <th></th>\n",
       "      <th></th>\n",
       "    </tr>\n",
       "  </thead>\n",
       "  <tbody>\n",
       "    <tr>\n",
       "      <th>20090312431273200</th>\n",
       "      <td>0-4</td>\n",
       "      <td>10.0</td>\n",
       "      <td>30</td>\n",
       "      <td>56.0</td>\n",
       "      <td>1</td>\n",
       "      <td>3.0</td>\n",
       "      <td>7</td>\n",
       "      <td>8.579356e+04</td>\n",
       "      <td>1.945455</td>\n",
       "      <td>-1.0</td>\n",
       "      <td>...</td>\n",
       "      <td>81.0</td>\n",
       "      <td>22.0</td>\n",
       "      <td>28.0</td>\n",
       "      <td>11.0</td>\n",
       "      <td>4.0</td>\n",
       "      <td>8.0</td>\n",
       "      <td>2.0</td>\n",
       "      <td>4</td>\n",
       "      <td>1</td>\n",
       "      <td>14155937</td>\n",
       "    </tr>\n",
       "    <tr>\n",
       "      <th>20090312431273200</th>\n",
       "      <td>13-22</td>\n",
       "      <td>10.0</td>\n",
       "      <td>49</td>\n",
       "      <td>168.0</td>\n",
       "      <td>1</td>\n",
       "      <td>6.0</td>\n",
       "      <td>9</td>\n",
       "      <td>1.040601e+06</td>\n",
       "      <td>17.402381</td>\n",
       "      <td>-1.0</td>\n",
       "      <td>...</td>\n",
       "      <td>170.0</td>\n",
       "      <td>123.0</td>\n",
       "      <td>60.0</td>\n",
       "      <td>20.0</td>\n",
       "      <td>14.0</td>\n",
       "      <td>10.0</td>\n",
       "      <td>6.0</td>\n",
       "      <td>3</td>\n",
       "      <td>1</td>\n",
       "      <td>437052322</td>\n",
       "    </tr>\n",
       "    <tr>\n",
       "      <th>20090312431273200</th>\n",
       "      <td>5-12</td>\n",
       "      <td>10.0</td>\n",
       "      <td>39</td>\n",
       "      <td>124.0</td>\n",
       "      <td>1</td>\n",
       "      <td>6.0</td>\n",
       "      <td>7</td>\n",
       "      <td>3.572052e+05</td>\n",
       "      <td>8.054054</td>\n",
       "      <td>-1.0</td>\n",
       "      <td>...</td>\n",
       "      <td>103.0</td>\n",
       "      <td>104.0</td>\n",
       "      <td>12.0</td>\n",
       "      <td>28.0</td>\n",
       "      <td>9.0</td>\n",
       "      <td>9.0</td>\n",
       "      <td>8.0</td>\n",
       "      <td>1</td>\n",
       "      <td>1</td>\n",
       "      <td>105732736</td>\n",
       "    </tr>\n",
       "    <tr>\n",
       "      <th>20090312433251036</th>\n",
       "      <td>0-4</td>\n",
       "      <td>11.0</td>\n",
       "      <td>22</td>\n",
       "      <td>49.0</td>\n",
       "      <td>1</td>\n",
       "      <td>3.0</td>\n",
       "      <td>6</td>\n",
       "      <td>9.763342e+04</td>\n",
       "      <td>1.870504</td>\n",
       "      <td>0.0</td>\n",
       "      <td>...</td>\n",
       "      <td>49.0</td>\n",
       "      <td>18.0</td>\n",
       "      <td>36.0</td>\n",
       "      <td>15.0</td>\n",
       "      <td>3.0</td>\n",
       "      <td>9.5</td>\n",
       "      <td>3.0</td>\n",
       "      <td>2</td>\n",
       "      <td>1</td>\n",
       "      <td>13571045</td>\n",
       "    </tr>\n",
       "    <tr>\n",
       "      <th>20090312433251036</th>\n",
       "      <td>13-22</td>\n",
       "      <td>11.0</td>\n",
       "      <td>73</td>\n",
       "      <td>183.0</td>\n",
       "      <td>1</td>\n",
       "      <td>9.0</td>\n",
       "      <td>11</td>\n",
       "      <td>2.498852e+06</td>\n",
       "      <td>17.762529</td>\n",
       "      <td>5.1</td>\n",
       "      <td>...</td>\n",
       "      <td>384.5</td>\n",
       "      <td>145.0</td>\n",
       "      <td>65.0</td>\n",
       "      <td>65.0</td>\n",
       "      <td>42.0</td>\n",
       "      <td>10.5</td>\n",
       "      <td>19.5</td>\n",
       "      <td>5</td>\n",
       "      <td>1</td>\n",
       "      <td>3241011333</td>\n",
       "    </tr>\n",
       "  </tbody>\n",
       "</table>\n",
       "<p>5 rows × 42 columns</p>\n",
       "</div>"
      ],
      "text/plain": [
       "                  level_group  event_name_nunique  fqid_nunique  text_nunique  \\\n",
       "session_id                                                                      \n",
       "20090312431273200         0-4                10.0            30          56.0   \n",
       "20090312431273200       13-22                10.0            49         168.0   \n",
       "20090312431273200        5-12                10.0            39         124.0   \n",
       "20090312433251036         0-4                11.0            22          49.0   \n",
       "20090312433251036       13-22                11.0            73         183.0   \n",
       "\n",
       "                   date_nunique  room_fqid_2_nunique  room_fqid_3_nunique  \\\n",
       "session_id                                                                  \n",
       "20090312431273200             1                  3.0                    7   \n",
       "20090312431273200             1                  6.0                    9   \n",
       "20090312431273200             1                  6.0                    7   \n",
       "20090312433251036             1                  3.0                    6   \n",
       "20090312433251036             1                  9.0                   11   \n",
       "\n",
       "                   elapsed_time_mean  level_mean  page_mean  ...  \\\n",
       "session_id                                                   ...   \n",
       "20090312431273200       8.579356e+04    1.945455       -1.0  ...   \n",
       "20090312431273200       1.040601e+06   17.402381       -1.0  ...   \n",
       "20090312431273200       3.572052e+05    8.054054       -1.0  ...   \n",
       "20090312433251036       9.763342e+04    1.870504        0.0  ...   \n",
       "20090312433251036       2.498852e+06   17.762529        5.1  ...   \n",
       "\n",
       "                   navigate_click_sum  person_click_sum  cutscene_click_sum  \\\n",
       "session_id                                                                    \n",
       "20090312431273200                81.0              22.0                28.0   \n",
       "20090312431273200               170.0             123.0                60.0   \n",
       "20090312431273200               103.0             104.0                12.0   \n",
       "20090312433251036                49.0              18.0                36.0   \n",
       "20090312433251036               384.5             145.0                65.0   \n",
       "\n",
       "                   object_click_sum  map_hover_sum  notification_click_sum  \\\n",
       "session_id                                                                   \n",
       "20090312431273200              11.0            4.0                     8.0   \n",
       "20090312431273200              20.0           14.0                    10.0   \n",
       "20090312431273200              28.0            9.0                     9.0   \n",
       "20090312433251036              15.0            3.0                     9.5   \n",
       "20090312433251036              65.0           42.0                    10.5   \n",
       "\n",
       "                   map_click_sum  observation_click_sum  checkpoint_sum  \\\n",
       "session_id                                                                \n",
       "20090312431273200            2.0                      4               1   \n",
       "20090312431273200            6.0                      3               1   \n",
       "20090312431273200            8.0                      1               1   \n",
       "20090312433251036            3.0                      2               1   \n",
       "20090312433251036           19.5                      5               1   \n",
       "\n",
       "                   elapsed_time_sum  \n",
       "session_id                           \n",
       "20090312431273200          14155937  \n",
       "20090312431273200         437052322  \n",
       "20090312431273200         105732736  \n",
       "20090312433251036          13571045  \n",
       "20090312433251036        3241011333  \n",
       "\n",
       "[5 rows x 42 columns]"
      ]
     },
     "execution_count": 11,
     "metadata": {},
     "output_type": "execute_result"
    }
   ],
   "source": [
    "df.head()"
   ]
  },
  {
   "cell_type": "code",
   "execution_count": 12,
   "id": "6baf3de9",
   "metadata": {
    "execution": {
     "iopub.execute_input": "2023-04-12T01:17:16.830265Z",
     "iopub.status.busy": "2023-04-12T01:17:16.829838Z",
     "iopub.status.idle": "2023-04-12T01:17:16.907210Z",
     "shell.execute_reply": "2023-04-12T01:17:16.905919Z"
    },
    "papermill": {
     "duration": 0.091245,
     "end_time": "2023-04-12T01:17:16.910029",
     "exception": false,
     "start_time": "2023-04-12T01:17:16.818784",
     "status": "completed"
    },
    "tags": []
   },
   "outputs": [],
   "source": [
    "from sklearn.preprocessing import MinMaxScaler\n",
    "\n",
    "all_features = df.columns[1:]\n",
    "scaler = MinMaxScaler()\n",
    "scaler.fit(df[all_features])\n",
    "df[all_features] = scaler.transform(df[all_features])"
   ]
  },
  {
   "cell_type": "markdown",
   "id": "254ade8c",
   "metadata": {
    "papermill": {
     "duration": 0.009072,
     "end_time": "2023-04-12T01:17:16.928552",
     "exception": false,
     "start_time": "2023-04-12T01:17:16.919480",
     "status": "completed"
    },
    "tags": []
   },
   "source": [
    "# Train XGBoost Model\n",
    "We train one model for each of 18 questions. Furthermore, we use data from `level_groups = '0-4'` to train model for questions 1-3, and `level groups '5-12'` to train questions 4 thru 13 and `level groups '13-22'` to train questions 14 thru 18. Because this is the data we get (to predict corresponding questions) from Kaggle's inference API during test inference. We can improve our model by saving a user's previous data from earlier `level_groups` and using that to predict future `level_groups`."
   ]
  },
  {
   "cell_type": "code",
   "execution_count": 13,
   "id": "99a0c7b1",
   "metadata": {
    "execution": {
     "iopub.execute_input": "2023-04-12T01:17:16.949815Z",
     "iopub.status.busy": "2023-04-12T01:17:16.949209Z",
     "iopub.status.idle": "2023-04-12T01:17:16.961316Z",
     "shell.execute_reply": "2023-04-12T01:17:16.960078Z"
    },
    "papermill": {
     "duration": 0.025305,
     "end_time": "2023-04-12T01:17:16.963562",
     "exception": false,
     "start_time": "2023-04-12T01:17:16.938257",
     "status": "completed"
    },
    "tags": []
   },
   "outputs": [
    {
     "name": "stdout",
     "output_type": "stream",
     "text": [
      "We will train with 41 features\n",
      "We will train with 23562 users info\n"
     ]
    }
   ],
   "source": [
    "FEATURES = [c for c in df.columns if c != 'level_group']\n",
    "print('We will train with', len(FEATURES) ,'features')\n",
    "ALL_USERS = df.index.unique()\n",
    "print('We will train with', len(ALL_USERS) ,'users info')"
   ]
  },
  {
   "cell_type": "code",
   "execution_count": 14,
   "id": "9c6af4c9",
   "metadata": {
    "execution": {
     "iopub.execute_input": "2023-04-12T01:17:16.985958Z",
     "iopub.status.busy": "2023-04-12T01:17:16.985180Z",
     "iopub.status.idle": "2023-04-12T01:20:17.682055Z",
     "shell.execute_reply": "2023-04-12T01:20:17.680934Z"
    },
    "papermill": {
     "duration": 180.712878,
     "end_time": "2023-04-12T01:20:17.686207",
     "exception": false,
     "start_time": "2023-04-12T01:17:16.973329",
     "status": "completed"
    },
    "tags": []
   },
   "outputs": [
    {
     "name": "stdout",
     "output_type": "stream",
     "text": [
      "#########################\n",
      "### Fold 1\n",
      "#########################\n",
      "1(147), 2(95), 3(182), 4(200), 5(135), 6(151), 7(79), 8(67), 9(150), 10(233), 11(168), 12(160), 13(149), 14(213), 15(165), 16(68), 17(58), 18(101), \n",
      "#########################\n",
      "### Fold 2\n",
      "#########################\n",
      "1(213), 2(167), 3(141), 4(142), 5(117), 6(182), 7(101), 8(100), 9(93), 10(159), 11(182), 12(124), 13(93), 14(175), 15(206), 16(146), 17(69), 18(132), \n",
      "#########################\n",
      "### Fold 3\n",
      "#########################\n",
      "1(201), 2(105), 3(129), 4(184), 5(129), 6(89), 7(127), 8(62), 9(127), 10(154), 11(68), 12(77), 13(95), 14(167), 15(331), 16(84), 17(96), 18(159), \n",
      "#########################\n",
      "### Fold 4\n",
      "#########################\n",
      "1(176), 2(153), 3(108), 4(218), 5(94), 6(148), 7(114), 8(97), 9(104), 10(134), 11(129), 12(90), 13(179), 14(239), 15(258), 16(69), 17(67), 18(152), \n",
      "#########################\n",
      "### Fold 5\n",
      "#########################\n",
      "1(143), 2(143), 3(142), 4(313), 5(273), 6(136), 7(135), 8(73), 9(90), 10(153), 11(73), 12(164), 13(200), 14(129), 15(186), 16(58), 17(88), 18(224), \n"
     ]
    }
   ],
   "source": [
    "gkf = GroupKFold(n_splits=5)\n",
    "oof = pd.DataFrame(data=np.zeros((len(ALL_USERS),18)), index=ALL_USERS)\n",
    "models = {}\n",
    "\n",
    "# COMPUTE CV SCORE WITH 5 GROUP K FOLD\n",
    "for i, (train_index, test_index) in enumerate(gkf.split(X=df, groups=df.index)):\n",
    "    print('#'*25)\n",
    "    print('### Fold',i+1)\n",
    "    print('#'*25)\n",
    "    \n",
    "    xgb_params = {\n",
    "    'objective' : 'binary:logistic',\n",
    "    'eval_metric':'logloss',\n",
    "    'learning_rate': 0.05,\n",
    "    'max_depth': 4,\n",
    "    'n_estimators': 1000,\n",
    "    'early_stopping_rounds': 50,\n",
    "    'tree_method':'hist',\n",
    "    'subsample':0.8,\n",
    "    'colsample_bytree': 0.4,\n",
    "    'use_label_encoder' : False}\n",
    "    \n",
    "    # ITERATE THRU QUESTIONS 1 THRU 18\n",
    "    for t in range(1,19):\n",
    "        \n",
    "        # USE THIS TRAIN DATA WITH THESE QUESTIONS\n",
    "        if t<=3: grp = '0-4'\n",
    "        elif t<=13: grp = '5-12'\n",
    "        elif t<=22: grp = '13-22'\n",
    "            \n",
    "        # TRAIN DATA\n",
    "        train_x = df.iloc[train_index]\n",
    "        train_x = train_x.loc[train_x.level_group == grp]\n",
    "        train_users = train_x.index.values\n",
    "        train_y = targets.loc[targets.q==t].set_index('session').loc[train_users]\n",
    "        \n",
    "        # VALID DATA\n",
    "        valid_x = df.iloc[test_index]\n",
    "        valid_x = valid_x.loc[valid_x.level_group == grp]\n",
    "        valid_users = valid_x.index.values\n",
    "        valid_y = targets.loc[targets.q==t].set_index('session').loc[valid_users]\n",
    "        \n",
    "        # TRAIN MODEL        \n",
    "        clf =  XGBClassifier(**xgb_params)\n",
    "        clf.fit(train_x[FEATURES].astype('float32'), train_y['correct'],\n",
    "                eval_set=[ (valid_x[FEATURES].astype('float32'), valid_y['correct']) ],\n",
    "                verbose=0)\n",
    "        print(f'{t}({clf.best_ntree_limit}), ',end='')\n",
    "        \n",
    "        # SAVE MODEL, PREDICT VALID OOF\n",
    "        models[f'{grp}_{t}'] = clf\n",
    "        oof.loc[valid_users, t-1] = clf.predict_proba(valid_x[FEATURES].astype('float32'))[:,1]\n",
    "        \n",
    "    print()"
   ]
  },
  {
   "cell_type": "markdown",
   "id": "cfa64732",
   "metadata": {
    "papermill": {
     "duration": 0.018551,
     "end_time": "2023-04-12T01:20:17.725317",
     "exception": false,
     "start_time": "2023-04-12T01:20:17.706766",
     "status": "completed"
    },
    "tags": []
   },
   "source": [
    "# Compute CV Score\n",
    "We need to convert prediction probabilities into `1s` and `0s`. The competition metric is F1 Score which is the harmonic mean of precision and recall. Let's find the optimal threshold for `p > threshold` when to predict `1` and when to predict `0` to maximize F1 Score."
   ]
  },
  {
   "cell_type": "code",
   "execution_count": 15,
   "id": "b116dcb3",
   "metadata": {
    "execution": {
     "iopub.execute_input": "2023-04-12T01:20:17.764805Z",
     "iopub.status.busy": "2023-04-12T01:20:17.764029Z",
     "iopub.status.idle": "2023-04-12T01:20:17.925940Z",
     "shell.execute_reply": "2023-04-12T01:20:17.924301Z"
    },
    "papermill": {
     "duration": 0.185355,
     "end_time": "2023-04-12T01:20:17.929370",
     "exception": false,
     "start_time": "2023-04-12T01:20:17.744015",
     "status": "completed"
    },
    "tags": []
   },
   "outputs": [],
   "source": [
    "# PUT TRUE LABELS INTO DATAFRAME WITH 18 COLUMNS\n",
    "true = oof.copy()\n",
    "for k in range(18):\n",
    "    # GET TRUE LABELS\n",
    "    tmp = targets.loc[targets.q == k+1].set_index('session').loc[ALL_USERS]\n",
    "    true[k] = tmp.correct.values"
   ]
  },
  {
   "cell_type": "code",
   "execution_count": 16,
   "id": "85c9d7fd",
   "metadata": {
    "execution": {
     "iopub.execute_input": "2023-04-12T01:20:17.968918Z",
     "iopub.status.busy": "2023-04-12T01:20:17.967583Z",
     "iopub.status.idle": "2023-04-12T01:20:26.462344Z",
     "shell.execute_reply": "2023-04-12T01:20:26.461258Z"
    },
    "papermill": {
     "duration": 8.51789,
     "end_time": "2023-04-12T01:20:26.465896",
     "exception": false,
     "start_time": "2023-04-12T01:20:17.948006",
     "status": "completed"
    },
    "tags": []
   },
   "outputs": [
    {
     "name": "stdout",
     "output_type": "stream",
     "text": [
      "0.40, 0.41, 0.42, 0.43, 0.44, 0.45, 0.46, 0.47, 0.48, 0.49, 0.50, 0.51, 0.52, 0.53, 0.54, 0.55, 0.56, 0.57, 0.58, 0.59, 0.60, 0.61, 0.62, 0.63, 0.64, 0.65, 0.66, 0.67, 0.68, 0.69, 0.70, 0.71, 0.72, 0.73, 0.74, 0.75, 0.76, 0.77, 0.78, 0.79, 0.80, "
     ]
    }
   ],
   "source": [
    "# FIND BEST THRESHOLD TO CONVERT PROBS INTO 1s AND 0s\n",
    "scores = []; thresholds = []\n",
    "best_score = 0; best_threshold = 0\n",
    "\n",
    "for threshold in np.arange(0.4,0.81,0.01):\n",
    "    print(f'{threshold:.02f}, ',end='')\n",
    "    preds = (oof.values.reshape((-1))>threshold).astype('int')\n",
    "    m = f1_score(true.values.reshape((-1)), preds, average='macro')   \n",
    "    scores.append(m)\n",
    "    thresholds.append(threshold)\n",
    "    if m>best_score:\n",
    "        best_score = m\n",
    "        best_threshold = threshold"
   ]
  },
  {
   "cell_type": "code",
   "execution_count": 17,
   "id": "6822128f",
   "metadata": {
    "execution": {
     "iopub.execute_input": "2023-04-12T01:20:26.529209Z",
     "iopub.status.busy": "2023-04-12T01:20:26.528214Z",
     "iopub.status.idle": "2023-04-12T01:20:26.889556Z",
     "shell.execute_reply": "2023-04-12T01:20:26.888387Z"
    },
    "papermill": {
     "duration": 0.394995,
     "end_time": "2023-04-12T01:20:26.893144",
     "exception": false,
     "start_time": "2023-04-12T01:20:26.498149",
     "status": "completed"
    },
    "tags": []
   },
   "outputs": [
    {
     "data": {
      "image/png": "[encoded data removed]",
      "text/plain": [
       "<Figure size 1440x360 with 1 Axes>"
      ]
     },
     "metadata": {
      "needs_background": "light"
     },
     "output_type": "display_data"
    }
   ],
   "source": [
    "import matplotlib.pyplot as plt\n",
    "\n",
    "# PLOT THRESHOLD VS. F1_SCORE\n",
    "plt.figure(figsize=(20,5))\n",
    "plt.plot(thresholds,scores,'-o',color='blue')\n",
    "plt.scatter([best_threshold], [best_score], color='blue', s=300, alpha=1)\n",
    "plt.xlabel('Threshold',size=14)\n",
    "plt.ylabel('Validation F1 Score',size=14)\n",
    "plt.title(f'Threshold vs. F1_Score with Best F1_Score = {best_score:.3f} at Best Threshold = {best_threshold:.3}',size=18)\n",
    "plt.show()"
   ]
  },
  {
   "cell_type": "code",
   "execution_count": 18,
   "id": "dd8cf9e1",
   "metadata": {
    "execution": {
     "iopub.execute_input": "2023-04-12T01:20:26.940804Z",
     "iopub.status.busy": "2023-04-12T01:20:26.940412Z",
     "iopub.status.idle": "2023-04-12T01:20:27.338140Z",
     "shell.execute_reply": "2023-04-12T01:20:27.337123Z"
    },
    "papermill": {
     "duration": 0.420053,
     "end_time": "2023-04-12T01:20:27.340726",
     "exception": false,
     "start_time": "2023-04-12T01:20:26.920673",
     "status": "completed"
    },
    "tags": []
   },
   "outputs": [
    {
     "name": "stdout",
     "output_type": "stream",
     "text": [
      "When using optimal threshold...\n",
      "Q0: F1 = 0.5976600884248997\n",
      "Q1: F1 = 0.49464879356568364\n",
      "Q2: F1 = 0.4859151188561253\n",
      "Q3: F1 = 0.6193249621076928\n",
      "Q4: F1 = 0.5895474267151457\n",
      "Q5: F1 = 0.6080490229173952\n",
      "Q6: F1 = 0.5834160283369026\n",
      "Q7: F1 = 0.5503571058761352\n",
      "Q8: F1 = 0.5966678124427385\n",
      "Q9: F1 = 0.5399754336330753\n",
      "Q10: F1 = 0.5943626667367861\n",
      "Q11: F1 = 0.4930772931245015\n",
      "Q12: F1 = 0.43896061827605165\n",
      "Q13: F1 = 0.6073008532072929\n",
      "Q14: F1 = 0.5273099592775087\n",
      "Q15: F1 = 0.45651274173284956\n",
      "Q16: F1 = 0.5256467663467339\n",
      "Q17: F1 = 0.4881938964780805\n",
      "==> Overall F1 = 0.6792508154559078\n"
     ]
    }
   ],
   "source": [
    "print('When using optimal threshold...')\n",
    "for k in range(18):\n",
    "        \n",
    "    # COMPUTE F1 SCORE PER QUESTION\n",
    "    m = f1_score(true[k].values, (oof[k].values>best_threshold).astype('int'), average='macro')\n",
    "    print(f'Q{k}: F1 =',m)\n",
    "    \n",
    "# COMPUTE F1 SCORE OVERALL\n",
    "m = f1_score(true.values.reshape((-1)), (oof.values.reshape((-1))>best_threshold).astype('int'), average='macro')\n",
    "print('==> Overall F1 =',m)"
   ]
  },
  {
   "cell_type": "markdown",
   "id": "add549d3",
   "metadata": {
    "papermill": {
     "duration": 0.017298,
     "end_time": "2023-04-12T01:20:27.376763",
     "exception": false,
     "start_time": "2023-04-12T01:20:27.359465",
     "status": "completed"
    },
    "tags": []
   },
   "source": [
    "# Infer Test Data"
   ]
  },
  {
   "cell_type": "code",
   "execution_count": 19,
   "id": "c2c241ab",
   "metadata": {
    "execution": {
     "iopub.execute_input": "2023-04-12T01:20:27.415095Z",
     "iopub.status.busy": "2023-04-12T01:20:27.414685Z",
     "iopub.status.idle": "2023-04-12T01:20:27.587459Z",
     "shell.execute_reply": "2023-04-12T01:20:27.586374Z"
    },
    "papermill": {
     "duration": 0.195303,
     "end_time": "2023-04-12T01:20:27.590075",
     "exception": false,
     "start_time": "2023-04-12T01:20:27.394772",
     "status": "completed"
    },
    "tags": []
   },
   "outputs": [],
   "source": [
    "# IMPORT KAGGLE API\n",
    "import jo_wilder\n",
    "env = jo_wilder.make_env()\n",
    "iter_test = env.iter_test()\n",
    "\n",
    "# CLEAR MEMORY\n",
    "import gc\n",
    "del targets, df, oof, true\n",
    "_ = gc.collect()"
   ]
  },
  {
   "cell_type": "code",
   "execution_count": 20,
   "id": "acb52a54",
   "metadata": {
    "execution": {
     "iopub.execute_input": "2023-04-12T01:20:27.627464Z",
     "iopub.status.busy": "2023-04-12T01:20:27.626814Z",
     "iopub.status.idle": "2023-04-12T01:20:28.394415Z",
     "shell.execute_reply": "2023-04-12T01:20:28.393405Z"
    },
    "papermill": {
     "duration": 0.789947,
     "end_time": "2023-04-12T01:20:28.397464",
     "exception": false,
     "start_time": "2023-04-12T01:20:27.607517",
     "status": "completed"
    },
    "tags": []
   },
   "outputs": [
    {
     "name": "stdout",
     "output_type": "stream",
     "text": [
      "This version of the API is not optimized and should not be used to estimate the runtime of your code on the hidden test set.\n"
     ]
    }
   ],
   "source": [
    "limits = {'0-4':(1,4), '5-12':(4,14), '13-22':(14,19)}\n",
    "\n",
    "for (test, sample_submission) in iter_test:\n",
    "    \n",
    "    # FEATURE ENGINEER TEST DATA\n",
    "    # 파생 변수 추가\n",
    "    test = Derived_Variable(test)\n",
    "    \n",
    "    df = feature_engineer(test)\n",
    "    \n",
    "    # 이상치 변환\n",
    "    df = remove_out(df, remove_col)\n",
    "    \n",
    "    # 피처 스케일링\n",
    "    df[all_features] = scaler.transform(df[all_features])\n",
    "    \n",
    "    # INFER TEST DATA\n",
    "    grp = test.level_group.values[0]\n",
    "    a,b = limits[grp]\n",
    "    for t in range(a,b):\n",
    "        clf = models[f'{grp}_{t}']\n",
    "        p = clf.predict_proba(df[FEATURES].astype('float32'))[0,1]\n",
    "        mask = sample_submission.session_id.str.contains(f'q{t}')\n",
    "        sample_submission.loc[mask,'correct'] = int( p > best_threshold )\n",
    "    \n",
    "    env.predict(sample_submission)"
   ]
  },
  {
   "cell_type": "markdown",
   "id": "fd6a29e0",
   "metadata": {
    "papermill": {
     "duration": 0.017739,
     "end_time": "2023-04-12T01:20:28.434213",
     "exception": false,
     "start_time": "2023-04-12T01:20:28.416474",
     "status": "completed"
    },
    "tags": []
   },
   "source": [
    "# EDA submission.csv"
   ]
  },
  {
   "cell_type": "code",
   "execution_count": 21,
   "id": "181e1063",
   "metadata": {
    "execution": {
     "iopub.execute_input": "2023-04-12T01:20:28.472093Z",
     "iopub.status.busy": "2023-04-12T01:20:28.471678Z",
     "iopub.status.idle": "2023-04-12T01:20:28.486077Z",
     "shell.execute_reply": "2023-04-12T01:20:28.484927Z"
    },
    "papermill": {
     "duration": 0.036446,
     "end_time": "2023-04-12T01:20:28.488541",
     "exception": false,
     "start_time": "2023-04-12T01:20:28.452095",
     "status": "completed"
    },
    "tags": []
   },
   "outputs": [
    {
     "name": "stdout",
     "output_type": "stream",
     "text": [
      "(54, 2)\n"
     ]
    },
    {
     "data": {
      "text/html": [
       "<div>\n",
       "<style scoped>\n",
       "    .dataframe tbody tr th:only-of-type {\n",
       "        vertical-align: middle;\n",
       "    }\n",
       "\n",
       "    .dataframe tbody tr th {\n",
       "        vertical-align: top;\n",
       "    }\n",
       "\n",
       "    .dataframe thead th {\n",
       "        text-align: right;\n",
       "    }\n",
       "</style>\n",
       "<table border=\"1\" class=\"dataframe\">\n",
       "  <thead>\n",
       "    <tr style=\"text-align: right;\">\n",
       "      <th></th>\n",
       "      <th>session_id</th>\n",
       "      <th>correct</th>\n",
       "    </tr>\n",
       "  </thead>\n",
       "  <tbody>\n",
       "    <tr>\n",
       "      <th>0</th>\n",
       "      <td>20090109393214576_q1</td>\n",
       "      <td>1</td>\n",
       "    </tr>\n",
       "    <tr>\n",
       "      <th>1</th>\n",
       "      <td>20090312143683264_q1</td>\n",
       "      <td>1</td>\n",
       "    </tr>\n",
       "    <tr>\n",
       "      <th>2</th>\n",
       "      <td>20090312331414616_q1</td>\n",
       "      <td>1</td>\n",
       "    </tr>\n",
       "    <tr>\n",
       "      <th>3</th>\n",
       "      <td>20090109393214576_q2</td>\n",
       "      <td>1</td>\n",
       "    </tr>\n",
       "    <tr>\n",
       "      <th>4</th>\n",
       "      <td>20090312143683264_q2</td>\n",
       "      <td>1</td>\n",
       "    </tr>\n",
       "  </tbody>\n",
       "</table>\n",
       "</div>"
      ],
      "text/plain": [
       "             session_id  correct\n",
       "0  20090109393214576_q1        1\n",
       "1  20090312143683264_q1        1\n",
       "2  20090312331414616_q1        1\n",
       "3  20090109393214576_q2        1\n",
       "4  20090312143683264_q2        1"
      ]
     },
     "execution_count": 21,
     "metadata": {},
     "output_type": "execute_result"
    }
   ],
   "source": [
    "df = pd.read_csv('submission.csv')\n",
    "print( df.shape )\n",
    "df.head()"
   ]
  },
  {
   "cell_type": "code",
   "execution_count": 22,
   "id": "c3f3974e",
   "metadata": {
    "execution": {
     "iopub.execute_input": "2023-04-12T01:20:28.526652Z",
     "iopub.status.busy": "2023-04-12T01:20:28.525924Z",
     "iopub.status.idle": "2023-04-12T01:20:28.532382Z",
     "shell.execute_reply": "2023-04-12T01:20:28.531231Z"
    },
    "papermill": {
     "duration": 0.027984,
     "end_time": "2023-04-12T01:20:28.534532",
     "exception": false,
     "start_time": "2023-04-12T01:20:28.506548",
     "status": "completed"
    },
    "tags": []
   },
   "outputs": [
    {
     "name": "stdout",
     "output_type": "stream",
     "text": [
      "0.7222222222222222\n"
     ]
    }
   ],
   "source": [
    "print(df.correct.mean())"
   ]
  },
  {
   "cell_type": "code",
   "execution_count": null,
   "id": "84331103",
   "metadata": {
    "papermill": {
     "duration": 0.018569,
     "end_time": "2023-04-12T01:20:28.571254",
     "exception": false,
     "start_time": "2023-04-12T01:20:28.552685",
     "status": "completed"
    },
    "tags": []
   },
   "outputs": [],
   "source": []
  }
 ],
 "metadata": {
  "kernelspec": {
   "display_name": "Python 3",
   "language": "python",
   "name": "python3"
  },
  "language_info": {
   "codemirror_mode": {
    "name": "ipython",
    "version": 3
   },
   "file_extension": ".py",
   "mimetype": "text/x-python",
   "name": "python",
   "nbconvert_exporter": "python",
   "pygments_lexer": "ipython3",
   "version": "3.7.12"
  },
  "papermill": {
   "default_parameters": {},
   "duration": 806.257416,
   "end_time": "2023-04-12T01:20:29.719107",
   "environment_variables": {},
   "exception": null,
   "input_path": "__notebook__.ipynb",
   "output_path": "__notebook__.ipynb",
   "parameters": {},
   "start_time": "2023-04-12T01:07:03.461691",
   "version": "2.3.4"
  }
 },
 "nbformat": 4,
 "nbformat_minor": 5
}
