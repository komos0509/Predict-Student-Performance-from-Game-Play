{
 "cells": [
  {
   "cell_type": "markdown",
   "id": "6a15dfa5",
   "metadata": {
    "papermill": {
     "duration": 0.004377,
     "end_time": "2023-04-26T07:26:57.414739",
     "exception": false,
     "start_time": "2023-04-26T07:26:57.410362",
     "status": "completed"
    },
    "tags": []
   },
   "source": [
    "My train part is [Here](https://www.kaggle.com/code/takanashihumbert/magic-bingo-train-part-lb-0-687)"
   ]
  },
  {
   "cell_type": "code",
   "execution_count": 1,
   "id": "e587b2f6",
   "metadata": {
    "execution": {
     "iopub.execute_input": "2023-04-26T07:26:57.424370Z",
     "iopub.status.busy": "2023-04-26T07:26:57.423564Z",
     "iopub.status.idle": "2023-04-26T07:26:59.082199Z",
     "shell.execute_reply": "2023-04-26T07:26:59.080757Z"
    },
    "papermill": {
     "duration": 1.666889,
     "end_time": "2023-04-26T07:26:59.085430",
     "exception": false,
     "start_time": "2023-04-26T07:26:57.418541",
     "status": "completed"
    },
    "tags": []
   },
   "outputs": [],
   "source": [
    "import pandas as pd\n",
    "import numpy as np\n",
    "import matplotlib.pyplot as plt\n",
    "import gc\n",
    "import pickle\n",
    "import polars as pl\n",
    "from sklearn.model_selection import KFold, GroupKFold\n",
    "from xgboost import XGBClassifier\n",
    "from sklearn.metrics import f1_score\n",
    "from tqdm.notebook import tqdm\n",
    "from collections import defaultdict\n",
    "import warnings\n",
    "from itertools import combinations\n",
    "\n",
    "warnings.filterwarnings('ignore')\n",
    "pd.set_option(\"display.max_columns\", None)\n",
    "pd.set_option(\"display.max_rows\", 200)"
   ]
  },
  {
   "cell_type": "code",
   "execution_count": 2,
   "id": "68b5c24c",
   "metadata": {
    "execution": {
     "iopub.execute_input": "2023-04-26T07:26:59.095332Z",
     "iopub.status.busy": "2023-04-26T07:26:59.093845Z",
     "iopub.status.idle": "2023-04-26T07:26:59.101880Z",
     "shell.execute_reply": "2023-04-26T07:26:59.100503Z"
    },
    "papermill": {
     "duration": 0.015903,
     "end_time": "2023-04-26T07:26:59.104681",
     "exception": false,
     "start_time": "2023-04-26T07:26:59.088778",
     "status": "completed"
    },
    "tags": []
   },
   "outputs": [],
   "source": [
    "CATS = ['event_name', 'name','fqid', 'room_fqid', 'text_fqid']\n",
    "\n",
    "event_name_feature = ['cutscene_click', 'person_click', 'navigate_click',\n",
    "       'observation_click', 'notification_click', 'object_click',\n",
    "       'object_hover', 'map_hover', 'map_click', 'checkpoint',\n",
    "       'notebook_click']\n",
    "\n",
    "name_feature = ['basic', 'undefined', 'close', 'open', 'prev', 'next']\n",
    "\n",
    "NUMS = [ \n",
    "        'page', \n",
    "        'room_coor_x', \n",
    "        'room_coor_y', \n",
    "        'screen_coor_x', \n",
    "        'screen_coor_y', \n",
    "        'hover_duration', \n",
    "        'elapsed_time_diff']"
   ]
  },
  {
   "cell_type": "code",
   "execution_count": 3,
   "id": "713294d4",
   "metadata": {
    "execution": {
     "iopub.execute_input": "2023-04-26T07:26:59.113887Z",
     "iopub.status.busy": "2023-04-26T07:26:59.113430Z",
     "iopub.status.idle": "2023-04-26T07:26:59.143825Z",
     "shell.execute_reply": "2023-04-26T07:26:59.142406Z"
    },
    "papermill": {
     "duration": 0.038741,
     "end_time": "2023-04-26T07:26:59.146870",
     "exception": false,
     "start_time": "2023-04-26T07:26:59.108129",
     "status": "completed"
    },
    "tags": []
   },
   "outputs": [],
   "source": [
    "def feature_engineer(x, grp, use_extra, feature_suffix):\n",
    "        \n",
    "    aggs = [\n",
    "        pl.col(\"index\").count().alias(f\"session_number_{feature_suffix}\"),\n",
    "        *[pl.col(c).drop_nulls().n_unique().alias(f\"{c}_unique_{feature_suffix}\") for c in CATS],\n",
    "        *[pl.col(c).mean().alias(f\"{c}_mean_{feature_suffix}\") for c in NUMS],\n",
    "        *[pl.col(c).min().alias(f\"{c}_min_{feature_suffix}\") for c in NUMS],\n",
    "        *[pl.col(c).max().alias(f\"{c}_max_{feature_suffix}\") for c in NUMS],\n",
    "        *[pl.col(\"elapsed_time_diff\").filter(pl.col(\"event_name\")==c).mean().alias(f\"{c}_ET_mean_{feature_suffix}\") for c in event_name_feature],\n",
    "        *[pl.col(\"elapsed_time_diff\").filter(pl.col(\"event_name\")==c).max().alias(f\"{c}_ET_max_{feature_suffix}\") for c in event_name_feature],\n",
    "        *[pl.col(\"elapsed_time_diff\").filter(pl.col(\"event_name\")==c).min().alias(f\"{c}_ET_min_{feature_suffix}\") for c in event_name_feature],\n",
    "        *[pl.col(\"elapsed_time_diff\").filter(pl.col(\"name\")==c).mean().alias(f\"{c}_ET_mean_{feature_suffix}\") for c in name_feature],\n",
    "        *[pl.col(\"elapsed_time_diff\").filter(pl.col(\"name\")==c).max().alias(f\"{c}_ET_max_{feature_suffix}\") for c in name_feature],\n",
    "        *[pl.col(\"elapsed_time_diff\").filter(pl.col(\"name\")==c).min().alias(f\"{c}_ET_min_{feature_suffix}\") for c in name_feature],\n",
    "    ]\n",
    "    \n",
    "    df = x.groupby([\"session_id\"], maintain_order=True).agg(aggs).sort(\"session_id\")\n",
    "    \n",
    "    if use_extra:\n",
    "        if grp=='5-12':\n",
    "            aggs = [\n",
    "                pl.col(\"elapsed_time\").filter((pl.col(\"text\")==\"Here's the log book.\")|(pl.col(\"fqid\")=='logbook.page.bingo')).apply(lambda s: s.max()-s.min()).alias(\"logbook_bingo_duration\"),\n",
    "                pl.col(\"index\").filter((pl.col(\"text\")==\"Here's the log book.\")|(pl.col(\"fqid\")=='logbook.page.bingo')).apply(lambda s: s.max()-s.min()).alias(\"logbook_bingo_indexCount\"),\n",
    "                pl.col(\"elapsed_time\").filter(((pl.col(\"event_name\")=='navigate_click')&(pl.col(\"fqid\")=='reader'))|(pl.col(\"fqid\")==\"reader.paper2.bingo\")).apply(lambda s: s.max()-s.min()).alias(\"reader_bingo_duration\"),\n",
    "                pl.col(\"index\").filter(((pl.col(\"event_name\")=='navigate_click')&(pl.col(\"fqid\")=='reader'))|(pl.col(\"fqid\")==\"reader.paper2.bingo\")).apply(lambda s: s.max()-s.min()).alias(\"reader_bingo_indexCount\"),\n",
    "                pl.col(\"elapsed_time\").filter(((pl.col(\"event_name\")=='navigate_click')&(pl.col(\"fqid\")=='journals'))|(pl.col(\"fqid\")==\"journals.pic_2.bingo\")).apply(lambda s: s.max()-s.min()).alias(\"journals_bingo_duration\"),\n",
    "                pl.col(\"index\").filter(((pl.col(\"event_name\")=='navigate_click')&(pl.col(\"fqid\")=='journals'))|(pl.col(\"fqid\")==\"journals.pic_2.bingo\")).apply(lambda s: s.max()-s.min()).alias(\"journals_bingo_indexCount\"),\n",
    "            ]\n",
    "            tmp = x.groupby([\"session_id\"], maintain_order=True).agg(aggs).sort(\"session_id\")\n",
    "            df = df.join(tmp, on=\"session_id\", how='left')\n",
    "\n",
    "        if grp=='13-22':\n",
    "            aggs = [\n",
    "                pl.col(\"elapsed_time\").filter(((pl.col(\"event_name\")=='navigate_click')&(pl.col(\"fqid\")=='reader_flag'))|(pl.col(\"fqid\")==\"tunic.library.microfiche.reader_flag.paper2.bingo\")).apply(lambda s: s.max()-s.min() if s.len()>0 else 0).alias(\"reader_flag_duration\"),\n",
    "                pl.col(\"index\").filter(((pl.col(\"event_name\")=='navigate_click')&(pl.col(\"fqid\")=='reader_flag'))|(pl.col(\"fqid\")==\"tunic.library.microfiche.reader_flag.paper2.bingo\")).apply(lambda s: s.max()-s.min() if s.len()>0 else 0).alias(\"reader_flag_indexCount\"),\n",
    "                pl.col(\"elapsed_time\").filter(((pl.col(\"event_name\")=='navigate_click')&(pl.col(\"fqid\")=='journals_flag'))|(pl.col(\"fqid\")==\"journals_flag.pic_0.bingo\")).apply(lambda s: s.max()-s.min() if s.len()>0 else 0).alias(\"journalsFlag_bingo_duration\"),\n",
    "                pl.col(\"index\").filter(((pl.col(\"event_name\")=='navigate_click')&(pl.col(\"fqid\")=='journals_flag'))|(pl.col(\"fqid\")==\"journals_flag.pic_0.bingo\")).apply(lambda s: s.max()-s.min() if s.len()>0 else 0).alias(\"journalsFlag_bingo_indexCount\")\n",
    "            ]\n",
    "            tmp = x.groupby([\"session_id\"], maintain_order=True).agg(aggs).sort(\"session_id\")\n",
    "            df = df.join(tmp, on=\"session_id\", how='left')\n",
    "        \n",
    "    return df.to_pandas()"
   ]
  },
  {
   "cell_type": "code",
   "execution_count": 4,
   "id": "b8050991",
   "metadata": {
    "execution": {
     "iopub.execute_input": "2023-04-26T07:26:59.155956Z",
     "iopub.status.busy": "2023-04-26T07:26:59.155474Z",
     "iopub.status.idle": "2023-04-26T07:26:59.169077Z",
     "shell.execute_reply": "2023-04-26T07:26:59.167709Z"
    },
    "papermill": {
     "duration": 0.021956,
     "end_time": "2023-04-26T07:26:59.172277",
     "exception": false,
     "start_time": "2023-04-26T07:26:59.150321",
     "status": "completed"
    },
    "tags": []
   },
   "outputs": [],
   "source": [
    "import pickle\n",
    "f_read = open('/kaggle/input/magic-bingo-xgb-models/importance_dict.pkl', 'rb')\n",
    "importance_dict = pickle.load(f_read)\n",
    "f_read.close()"
   ]
  },
  {
   "cell_type": "code",
   "execution_count": 5,
   "id": "1b7198ec",
   "metadata": {
    "execution": {
     "iopub.execute_input": "2023-04-26T07:26:59.181480Z",
     "iopub.status.busy": "2023-04-26T07:26:59.180595Z",
     "iopub.status.idle": "2023-04-26T07:26:59.207967Z",
     "shell.execute_reply": "2023-04-26T07:26:59.206986Z"
    },
    "papermill": {
     "duration": 0.035015,
     "end_time": "2023-04-26T07:26:59.210582",
     "exception": false,
     "start_time": "2023-04-26T07:26:59.175567",
     "status": "completed"
    },
    "tags": []
   },
   "outputs": [],
   "source": [
    "# 공부\n",
    "import jo_wilder\n",
    "env = jo_wilder.make_env()\n",
    "iter_test = env.iter_test()"
   ]
  },
  {
   "cell_type": "code",
   "execution_count": 6,
   "id": "1034a5f8",
   "metadata": {
    "execution": {
     "iopub.execute_input": "2023-04-26T07:26:59.219565Z",
     "iopub.status.busy": "2023-04-26T07:26:59.218641Z",
     "iopub.status.idle": "2023-04-26T07:27:00.731005Z",
     "shell.execute_reply": "2023-04-26T07:27:00.727735Z"
    },
    "papermill": {
     "duration": 1.521629,
     "end_time": "2023-04-26T07:27:00.735457",
     "exception": false,
     "start_time": "2023-04-26T07:26:59.213828",
     "status": "completed"
    },
    "tags": []
   },
   "outputs": [
    {
     "name": "stdout",
     "output_type": "stream",
     "text": [
      "This version of the API is not optimized and should not be used to estimate the runtime of your code on the hidden test set.\n"
     ]
    }
   ],
   "source": [
    "limits = {'0-4':(1,4), '5-12':(4,14), '13-22':(14,19)}\n",
    "# Remember to change the threshold\n",
    "best_threshold = 0.615\n",
    "\n",
    "historical_meta = defaultdict(list)\n",
    "\n",
    "for (test, sample_submission) in iter_test:\n",
    "    grp = test.level_group.values[0]\n",
    "    session_id = test.session_id.values[0]\n",
    "    \n",
    "    columns = [\n",
    "        pl.col(\"page\").cast(pl.Float32),\n",
    "        (\n",
    "            (pl.col(\"elapsed_time\") - pl.col(\"elapsed_time\").shift(1))\n",
    "             .fill_null(0)\n",
    "             .clip(0, 1e9)\n",
    "             .alias(\"elapsed_time_diff\")\n",
    "        ),\n",
    "        (\n",
    "            (pl.col(\"screen_coor_x\") - pl.col(\"screen_coor_x\").shift(1)).abs()\n",
    "        ),\n",
    "        (\n",
    "            (pl.col(\"screen_coor_y\") - pl.col(\"screen_coor_y\").shift(1)).abs()\n",
    "        ),\n",
    "        pl.col(\"fqid\").fill_null(\"fqid_None\"),\n",
    "        pl.col(\"text_fqid\").fill_null(\"text_fqid_None\")\n",
    "    ]\n",
    "\n",
    "    test = (pl.from_pandas(test)\n",
    "          .drop([\"fullscreen\", \"hq\", \"music\"])\n",
    "          .with_columns(columns))\n",
    "    \n",
    "    # FEATURE ENGINEER TEST DATA\n",
    "    test = feature_engineer(test, grp, use_extra=True, feature_suffix='')\n",
    "    \n",
    "    # INFER TEST DATA\n",
    "    a,b = limits[grp]\n",
    "    for t in range(a, b):\n",
    "        FEATURES = importance_dict[str(t)]\n",
    "        \n",
    "        model = XGBClassifier()\n",
    "        model.load_model(f'/kaggle/input/magic-bingo-xgb-models/XGB_question{t}.xgb')\n",
    "        # 여기도 공부\n",
    "        p = model.predict_proba(test[FEATURES].astype('float32'))[:,1]\n",
    "        mask = sample_submission.session_id.str.contains(f'q{t}')\n",
    "        sample_submission.loc[mask,'correct'] = int(p.item()>best_threshold)\n",
    "            \n",
    "    env.predict(sample_submission)"
   ]
  },
  {
   "cell_type": "code",
   "execution_count": 7,
   "id": "1b6f6007",
   "metadata": {
    "execution": {
     "iopub.execute_input": "2023-04-26T07:27:00.745798Z",
     "iopub.status.busy": "2023-04-26T07:27:00.744541Z",
     "iopub.status.idle": "2023-04-26T07:27:00.751200Z",
     "shell.execute_reply": "2023-04-26T07:27:00.749702Z"
    },
    "papermill": {
     "duration": 0.015517,
     "end_time": "2023-04-26T07:27:00.754773",
     "exception": false,
     "start_time": "2023-04-26T07:27:00.739256",
     "status": "completed"
    },
    "tags": []
   },
   "outputs": [],
   "source": [
    "for (sample_submission, test) in iter_test:\n",
    "    print(test)"
   ]
  },
  {
   "cell_type": "code",
   "execution_count": null,
   "id": "04014986",
   "metadata": {
    "papermill": {
     "duration": 0.004349,
     "end_time": "2023-04-26T07:27:00.763287",
     "exception": false,
     "start_time": "2023-04-26T07:27:00.758938",
     "status": "completed"
    },
    "tags": []
   },
   "outputs": [],
   "source": []
  }
 ],
 "metadata": {
  "kernelspec": {
   "display_name": "Python 3",
   "language": "python",
   "name": "python3"
  },
  "language_info": {
   "codemirror_mode": {
    "name": "ipython",
    "version": 3
   },
   "file_extension": ".py",
   "mimetype": "text/x-python",
   "name": "python",
   "nbconvert_exporter": "python",
   "pygments_lexer": "ipython3",
   "version": "3.7.12"
  },
  "papermill": {
   "default_parameters": {},
   "duration": 15.541451,
   "end_time": "2023-04-26T07:27:01.594991",
   "environment_variables": {},
   "exception": null,
   "input_path": "__notebook__.ipynb",
   "output_path": "__notebook__.ipynb",
   "parameters": {},
   "start_time": "2023-04-26T07:26:46.053540",
   "version": "2.4.0"
  }
 },
 "nbformat": 4,
 "nbformat_minor": 5
}
