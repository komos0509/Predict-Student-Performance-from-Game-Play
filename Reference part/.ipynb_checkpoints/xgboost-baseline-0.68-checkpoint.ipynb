{
 "cells": [
  {
   "cell_type": "markdown",
   "id": "a616fafe",
   "metadata": {
    "papermill": {
     "duration": 0.008264,
     "end_time": "2023-04-10T03:07:53.426449",
     "exception": false,
     "start_time": "2023-04-10T03:07:53.418185",
     "status": "completed"
    },
    "tags": []
   },
   "source": [
    "# XGBoost Baseline - LB 0.68\n",
    "In this notebook we present a XGBoost baseline. We train GroupKFold models for each of the 18 questions. Our CV score is 0.678. We infer test using one of our KFold models. We can improve our CV and LB by engineering more features for our xgboost and/or trying different models (like other ML models and/or RNN and/or Transformer). Also we can improve our LB by using more KFold models OR training one model using all data (and the hyperparameters that we found from our KFold cross validation).\n",
    "\n",
    "**UPDATE** On March 20 2023, Kaggle doubled the size of train data. Therefore we updated this notebook to avoid memory error. We accomplish this by reading train data in chunks and feature engineering in chunks. Note that another way to avoid memory error is to use two notebooks. Train models in one notebook that has 32GB RAM (and save models), and then submit the required 8GB RAM notebook (with loaded models) as a second notebook. (Discussion [here][1]).\n",
    "\n",
    "[1]: https://www.kaggle.com/competitions/predict-student-performance-from-game-play/discussion/386218"
   ]
  },
  {
   "cell_type": "code",
   "execution_count": 1,
   "id": "0e84ee30",
   "metadata": {
    "execution": {
     "iopub.execute_input": "2023-04-10T03:07:53.443030Z",
     "iopub.status.busy": "2023-04-10T03:07:53.442244Z",
     "iopub.status.idle": "2023-04-10T03:07:55.059863Z",
     "shell.execute_reply": "2023-04-10T03:07:55.058819Z"
    },
    "papermill": {
     "duration": 1.629388,
     "end_time": "2023-04-10T03:07:55.062958",
     "exception": false,
     "start_time": "2023-04-10T03:07:53.433570",
     "status": "completed"
    },
    "tags": []
   },
   "outputs": [],
   "source": [
    "import pandas as pd, numpy as np, gc\n",
    "from sklearn.model_selection import KFold, GroupKFold\n",
    "from xgboost import XGBClassifier\n",
    "from sklearn.metrics import f1_score"
   ]
  },
  {
   "cell_type": "markdown",
   "id": "111b55e9",
   "metadata": {
    "papermill": {
     "duration": 0.006043,
     "end_time": "2023-04-10T03:07:55.076039",
     "exception": false,
     "start_time": "2023-04-10T03:07:55.069996",
     "status": "completed"
    },
    "tags": []
   },
   "source": [
    "# Load Train Data and Labels\n",
    "On March 20 2023, Kaggle doubled the size of train data (discussion [here][1]). The train data is now 4.7GB! To avoid memory error, we will read the train data in as 10 pieces and feature engineer each piece before reading the next piece. This works because feature engineering shrinks the size of each piece.\n",
    "\n",
    "[1]: https://www.kaggle.com/competitions/predict-student-performance-from-game-play/discussion/396202"
   ]
  },
  {
   "cell_type": "code",
   "execution_count": 2,
   "id": "57ece233",
   "metadata": {
    "_kg_hide-input": true,
    "execution": {
     "iopub.execute_input": "2023-04-10T03:07:55.092433Z",
     "iopub.status.busy": "2023-04-10T03:07:55.091509Z",
     "iopub.status.idle": "2023-04-10T03:09:22.859569Z",
     "shell.execute_reply": "2023-04-10T03:09:22.858399Z"
    },
    "papermill": {
     "duration": 87.78589,
     "end_time": "2023-04-10T03:09:22.868607",
     "exception": false,
     "start_time": "2023-04-10T03:07:55.082717",
     "status": "completed"
    },
    "tags": []
   },
   "outputs": [
    {
     "name": "stdout",
     "output_type": "stream",
     "text": [
      "To avoid memory error, we will read train in 10 pieces of sizes:\n",
      "[2684191, 2631991, 2638304, 2657670, 2644229, 2629801, 2596616, 2602258, 2619995, 2591891]\n"
     ]
    }
   ],
   "source": [
    "# 데이터가 너무 많기 때문에 한번에 불러오면 시간이 오래 걸립니다. 그래서 10개로 나누어서 불러올려고 합니다.\n",
    "#READ USER ID ONLY\n",
    "tmp = pd.read_csv(\"/kaggle/input/predict-student-performance-from-game-play/train.csv\",usecols=[0]) # usecols를 사용하면 원하는 칼럼만 불러올 수 있다.\n",
    "# groupby를 통해 'session_id' 고윳값으로 뭉치고 agg('count')를 하여 출력으로는 'session_id' 고윳값들의 개수를 나타냅니다.\n",
    "tmp = tmp.groupby('session_id').session_id.agg('count')\n",
    "\n",
    "# COMPUTE READS AND SKIPS\n",
    "PIECES = 10\n",
    "# 10개로 나누기 위해서 10을 나누고 나머지는 올림으로 처리합니다.\n",
    "CHUNK = int( np.ceil(len(tmp)/PIECES) )\n",
    "\n",
    "reads = []\n",
    "skips = [0]\n",
    "for k in range(PIECES):\n",
    "    a = k*CHUNK\n",
    "    b = (k+1)*CHUNK\n",
    "    # 만약 b가 전체크기보다 크다면, b를 전체크기로 바꿉니다.(CHUNK에서 올림으로 처리하였기 때문에 클 수도 있습니다.)\n",
    "    if b>len(tmp): b=len(tmp)\n",
    "    r = tmp.iloc[a:b].sum()\n",
    "    reads.append(r)\n",
    "    skips.append(skips[-1]+r)\n",
    "    \n",
    "print(f'To avoid memory error, we will read train in {PIECES} pieces of sizes:')\n",
    "print(reads)"
   ]
  },
  {
   "cell_type": "code",
   "execution_count": 3,
   "id": "5bda7597",
   "metadata": {
    "execution": {
     "iopub.execute_input": "2023-04-10T03:09:22.885292Z",
     "iopub.status.busy": "2023-04-10T03:09:22.884526Z",
     "iopub.status.idle": "2023-04-10T03:09:31.330279Z",
     "shell.execute_reply": "2023-04-10T03:09:31.329052Z"
    },
    "papermill": {
     "duration": 8.45814,
     "end_time": "2023-04-10T03:09:31.332996",
     "exception": false,
     "start_time": "2023-04-10T03:09:22.874856",
     "status": "completed"
    },
    "tags": []
   },
   "outputs": [
    {
     "name": "stdout",
     "output_type": "stream",
     "text": [
      "Train size of first piece: (2684191, 20)\n"
     ]
    },
    {
     "data": {
      "text/html": [
       "<div>\n",
       "<style scoped>\n",
       "    .dataframe tbody tr th:only-of-type {\n",
       "        vertical-align: middle;\n",
       "    }\n",
       "\n",
       "    .dataframe tbody tr th {\n",
       "        vertical-align: top;\n",
       "    }\n",
       "\n",
       "    .dataframe thead th {\n",
       "        text-align: right;\n",
       "    }\n",
       "</style>\n",
       "<table border=\"1\" class=\"dataframe\">\n",
       "  <thead>\n",
       "    <tr style=\"text-align: right;\">\n",
       "      <th></th>\n",
       "      <th>session_id</th>\n",
       "      <th>index</th>\n",
       "      <th>elapsed_time</th>\n",
       "      <th>event_name</th>\n",
       "      <th>name</th>\n",
       "      <th>level</th>\n",
       "      <th>page</th>\n",
       "      <th>room_coor_x</th>\n",
       "      <th>room_coor_y</th>\n",
       "      <th>screen_coor_x</th>\n",
       "      <th>screen_coor_y</th>\n",
       "      <th>hover_duration</th>\n",
       "      <th>text</th>\n",
       "      <th>fqid</th>\n",
       "      <th>room_fqid</th>\n",
       "      <th>text_fqid</th>\n",
       "      <th>fullscreen</th>\n",
       "      <th>hq</th>\n",
       "      <th>music</th>\n",
       "      <th>level_group</th>\n",
       "    </tr>\n",
       "  </thead>\n",
       "  <tbody>\n",
       "    <tr>\n",
       "      <th>0</th>\n",
       "      <td>20090312431273200</td>\n",
       "      <td>0</td>\n",
       "      <td>0</td>\n",
       "      <td>cutscene_click</td>\n",
       "      <td>basic</td>\n",
       "      <td>0</td>\n",
       "      <td>NaN</td>\n",
       "      <td>-413.991405</td>\n",
       "      <td>-159.314686</td>\n",
       "      <td>380.0</td>\n",
       "      <td>494.0</td>\n",
       "      <td>NaN</td>\n",
       "      <td>undefined</td>\n",
       "      <td>intro</td>\n",
       "      <td>tunic.historicalsociety.closet</td>\n",
       "      <td>tunic.historicalsociety.closet.intro</td>\n",
       "      <td>0</td>\n",
       "      <td>0</td>\n",
       "      <td>1</td>\n",
       "      <td>0-4</td>\n",
       "    </tr>\n",
       "    <tr>\n",
       "      <th>1</th>\n",
       "      <td>20090312431273200</td>\n",
       "      <td>1</td>\n",
       "      <td>1323</td>\n",
       "      <td>person_click</td>\n",
       "      <td>basic</td>\n",
       "      <td>0</td>\n",
       "      <td>NaN</td>\n",
       "      <td>-413.991405</td>\n",
       "      <td>-159.314686</td>\n",
       "      <td>380.0</td>\n",
       "      <td>494.0</td>\n",
       "      <td>NaN</td>\n",
       "      <td>Whatcha doing over there, Jo?</td>\n",
       "      <td>gramps</td>\n",
       "      <td>tunic.historicalsociety.closet</td>\n",
       "      <td>tunic.historicalsociety.closet.gramps.intro_0_...</td>\n",
       "      <td>0</td>\n",
       "      <td>0</td>\n",
       "      <td>1</td>\n",
       "      <td>0-4</td>\n",
       "    </tr>\n",
       "    <tr>\n",
       "      <th>2</th>\n",
       "      <td>20090312431273200</td>\n",
       "      <td>2</td>\n",
       "      <td>831</td>\n",
       "      <td>person_click</td>\n",
       "      <td>basic</td>\n",
       "      <td>0</td>\n",
       "      <td>NaN</td>\n",
       "      <td>-413.991405</td>\n",
       "      <td>-159.314686</td>\n",
       "      <td>380.0</td>\n",
       "      <td>494.0</td>\n",
       "      <td>NaN</td>\n",
       "      <td>Just talking to Teddy.</td>\n",
       "      <td>gramps</td>\n",
       "      <td>tunic.historicalsociety.closet</td>\n",
       "      <td>tunic.historicalsociety.closet.gramps.intro_0_...</td>\n",
       "      <td>0</td>\n",
       "      <td>0</td>\n",
       "      <td>1</td>\n",
       "      <td>0-4</td>\n",
       "    </tr>\n",
       "    <tr>\n",
       "      <th>3</th>\n",
       "      <td>20090312431273200</td>\n",
       "      <td>3</td>\n",
       "      <td>1147</td>\n",
       "      <td>person_click</td>\n",
       "      <td>basic</td>\n",
       "      <td>0</td>\n",
       "      <td>NaN</td>\n",
       "      <td>-413.991405</td>\n",
       "      <td>-159.314686</td>\n",
       "      <td>380.0</td>\n",
       "      <td>494.0</td>\n",
       "      <td>NaN</td>\n",
       "      <td>I gotta run to my meeting!</td>\n",
       "      <td>gramps</td>\n",
       "      <td>tunic.historicalsociety.closet</td>\n",
       "      <td>tunic.historicalsociety.closet.gramps.intro_0_...</td>\n",
       "      <td>0</td>\n",
       "      <td>0</td>\n",
       "      <td>1</td>\n",
       "      <td>0-4</td>\n",
       "    </tr>\n",
       "    <tr>\n",
       "      <th>4</th>\n",
       "      <td>20090312431273200</td>\n",
       "      <td>4</td>\n",
       "      <td>1863</td>\n",
       "      <td>person_click</td>\n",
       "      <td>basic</td>\n",
       "      <td>0</td>\n",
       "      <td>NaN</td>\n",
       "      <td>-412.991405</td>\n",
       "      <td>-159.314686</td>\n",
       "      <td>381.0</td>\n",
       "      <td>494.0</td>\n",
       "      <td>NaN</td>\n",
       "      <td>Can I come, Gramps?</td>\n",
       "      <td>gramps</td>\n",
       "      <td>tunic.historicalsociety.closet</td>\n",
       "      <td>tunic.historicalsociety.closet.gramps.intro_0_...</td>\n",
       "      <td>0</td>\n",
       "      <td>0</td>\n",
       "      <td>1</td>\n",
       "      <td>0-4</td>\n",
       "    </tr>\n",
       "  </tbody>\n",
       "</table>\n",
       "</div>"
      ],
      "text/plain": [
       "          session_id  index  elapsed_time      event_name   name  level  page  \\\n",
       "0  20090312431273200      0             0  cutscene_click  basic      0   NaN   \n",
       "1  20090312431273200      1          1323    person_click  basic      0   NaN   \n",
       "2  20090312431273200      2           831    person_click  basic      0   NaN   \n",
       "3  20090312431273200      3          1147    person_click  basic      0   NaN   \n",
       "4  20090312431273200      4          1863    person_click  basic      0   NaN   \n",
       "\n",
       "   room_coor_x  room_coor_y  screen_coor_x  screen_coor_y  hover_duration  \\\n",
       "0  -413.991405  -159.314686          380.0          494.0             NaN   \n",
       "1  -413.991405  -159.314686          380.0          494.0             NaN   \n",
       "2  -413.991405  -159.314686          380.0          494.0             NaN   \n",
       "3  -413.991405  -159.314686          380.0          494.0             NaN   \n",
       "4  -412.991405  -159.314686          381.0          494.0             NaN   \n",
       "\n",
       "                            text    fqid                       room_fqid  \\\n",
       "0                      undefined   intro  tunic.historicalsociety.closet   \n",
       "1  Whatcha doing over there, Jo?  gramps  tunic.historicalsociety.closet   \n",
       "2         Just talking to Teddy.  gramps  tunic.historicalsociety.closet   \n",
       "3     I gotta run to my meeting!  gramps  tunic.historicalsociety.closet   \n",
       "4            Can I come, Gramps?  gramps  tunic.historicalsociety.closet   \n",
       "\n",
       "                                           text_fqid  fullscreen  hq  music  \\\n",
       "0               tunic.historicalsociety.closet.intro           0   0      1   \n",
       "1  tunic.historicalsociety.closet.gramps.intro_0_...           0   0      1   \n",
       "2  tunic.historicalsociety.closet.gramps.intro_0_...           0   0      1   \n",
       "3  tunic.historicalsociety.closet.gramps.intro_0_...           0   0      1   \n",
       "4  tunic.historicalsociety.closet.gramps.intro_0_...           0   0      1   \n",
       "\n",
       "  level_group  \n",
       "0         0-4  \n",
       "1         0-4  \n",
       "2         0-4  \n",
       "3         0-4  \n",
       "4         0-4  "
      ]
     },
     "execution_count": 3,
     "metadata": {},
     "output_type": "execute_result"
    }
   ],
   "source": [
    "train = pd.read_csv('/kaggle/input/predict-student-performance-from-game-play/train.csv', nrows=reads[0])\n",
    "print('Train size of first piece:', train.shape )\n",
    "train.head()"
   ]
  },
  {
   "cell_type": "code",
   "execution_count": 4,
   "id": "0cd203a2",
   "metadata": {
    "execution": {
     "iopub.execute_input": "2023-04-10T03:09:31.349264Z",
     "iopub.status.busy": "2023-04-10T03:09:31.348553Z",
     "iopub.status.idle": "2023-04-10T03:09:32.611571Z",
     "shell.execute_reply": "2023-04-10T03:09:32.609632Z"
    },
    "papermill": {
     "duration": 1.274991,
     "end_time": "2023-04-10T03:09:32.614832",
     "exception": false,
     "start_time": "2023-04-10T03:09:31.339841",
     "status": "completed"
    },
    "tags": []
   },
   "outputs": [
    {
     "name": "stdout",
     "output_type": "stream",
     "text": [
      "(424116, 4)\n"
     ]
    },
    {
     "data": {
      "text/html": [
       "<div>\n",
       "<style scoped>\n",
       "    .dataframe tbody tr th:only-of-type {\n",
       "        vertical-align: middle;\n",
       "    }\n",
       "\n",
       "    .dataframe tbody tr th {\n",
       "        vertical-align: top;\n",
       "    }\n",
       "\n",
       "    .dataframe thead th {\n",
       "        text-align: right;\n",
       "    }\n",
       "</style>\n",
       "<table border=\"1\" class=\"dataframe\">\n",
       "  <thead>\n",
       "    <tr style=\"text-align: right;\">\n",
       "      <th></th>\n",
       "      <th>session_id</th>\n",
       "      <th>correct</th>\n",
       "      <th>session</th>\n",
       "      <th>q</th>\n",
       "    </tr>\n",
       "  </thead>\n",
       "  <tbody>\n",
       "    <tr>\n",
       "      <th>0</th>\n",
       "      <td>20090312431273200_q1</td>\n",
       "      <td>1</td>\n",
       "      <td>20090312431273200</td>\n",
       "      <td>1</td>\n",
       "    </tr>\n",
       "    <tr>\n",
       "      <th>1</th>\n",
       "      <td>20090312433251036_q1</td>\n",
       "      <td>0</td>\n",
       "      <td>20090312433251036</td>\n",
       "      <td>1</td>\n",
       "    </tr>\n",
       "    <tr>\n",
       "      <th>2</th>\n",
       "      <td>20090312455206810_q1</td>\n",
       "      <td>1</td>\n",
       "      <td>20090312455206810</td>\n",
       "      <td>1</td>\n",
       "    </tr>\n",
       "    <tr>\n",
       "      <th>3</th>\n",
       "      <td>20090313091715820_q1</td>\n",
       "      <td>0</td>\n",
       "      <td>20090313091715820</td>\n",
       "      <td>1</td>\n",
       "    </tr>\n",
       "    <tr>\n",
       "      <th>4</th>\n",
       "      <td>20090313571836404_q1</td>\n",
       "      <td>1</td>\n",
       "      <td>20090313571836404</td>\n",
       "      <td>1</td>\n",
       "    </tr>\n",
       "  </tbody>\n",
       "</table>\n",
       "</div>"
      ],
      "text/plain": [
       "             session_id  correct            session  q\n",
       "0  20090312431273200_q1        1  20090312431273200  1\n",
       "1  20090312433251036_q1        0  20090312433251036  1\n",
       "2  20090312455206810_q1        1  20090312455206810  1\n",
       "3  20090313091715820_q1        0  20090313091715820  1\n",
       "4  20090313571836404_q1        1  20090313571836404  1"
      ]
     },
     "execution_count": 4,
     "metadata": {},
     "output_type": "execute_result"
    }
   ],
   "source": [
    "targets = pd.read_csv('/kaggle/input/predict-student-performance-from-game-play/train_labels.csv')\n",
    "targets['session'] = targets.session_id.apply(lambda x: int(x.split('_')[0]) )\n",
    "targets['q'] = targets.session_id.apply(lambda x: int(x.split('_')[-1][1:]) )\n",
    "print( targets.shape )\n",
    "targets.head()\n",
    "# targets 데이터들을 보면 session_id와 question number가 붙어져있습니다.\n",
    "# 그래서 후에 평가지표를 구하기 위해 session_id를 나누고 train과 test데이터들의 인덱스를 session_id로 만듭니다."
   ]
  },
  {
   "cell_type": "markdown",
   "id": "bce7268b",
   "metadata": {
    "papermill": {
     "duration": 0.006849,
     "end_time": "2023-04-10T03:09:32.629058",
     "exception": false,
     "start_time": "2023-04-10T03:09:32.622209",
     "status": "completed"
    },
    "tags": []
   },
   "source": [
    "# Feature Engineer\n",
    "We create basic aggregate features. Try creating more features to boost CV and LB! The idea for EVENTS feature is from [here][1]\n",
    "\n",
    "[1]: https://www.kaggle.com/code/kimtaehun/lightgbm-baseline-with-aggregated-log-data"
   ]
  },
  {
   "cell_type": "code",
   "execution_count": 5,
   "id": "3ba90b6f",
   "metadata": {
    "execution": {
     "iopub.execute_input": "2023-04-10T03:09:32.661570Z",
     "iopub.status.busy": "2023-04-10T03:09:32.660613Z",
     "iopub.status.idle": "2023-04-10T03:09:32.666659Z",
     "shell.execute_reply": "2023-04-10T03:09:32.665673Z"
    },
    "papermill": {
     "duration": 0.017778,
     "end_time": "2023-04-10T03:09:32.669107",
     "exception": false,
     "start_time": "2023-04-10T03:09:32.651329",
     "status": "completed"
    },
    "tags": []
   },
   "outputs": [],
   "source": [
    "# 명목형 변수\n",
    "CATS = ['event_name', 'fqid', 'room_fqid', 'text']\n",
    "\n",
    "# 수치형 변수\n",
    "NUMS = ['elapsed_time','level','page','room_coor_x', 'room_coor_y', \n",
    "        'screen_coor_x', 'screen_coor_y', 'hover_duration']\n",
    "\n",
    "# https://www.kaggle.com/code/kimtaehun/lightgbm-baseline-with-aggregated-log-data\n",
    "# 'event_name'의 고윳값들도 이용하겠습니다.\n",
    "EVENTS = ['navigate_click','person_click','cutscene_click','object_click',\n",
    "          'map_hover','notification_click','map_click','observation_click',\n",
    "          'checkpoint']"
   ]
  },
  {
   "cell_type": "code",
   "execution_count": 6,
   "id": "23dd601e",
   "metadata": {
    "execution": {
     "iopub.execute_input": "2023-04-10T03:09:32.688513Z",
     "iopub.status.busy": "2023-04-10T03:09:32.687201Z",
     "iopub.status.idle": "2023-04-10T03:09:32.698989Z",
     "shell.execute_reply": "2023-04-10T03:09:32.697816Z"
    },
    "papermill": {
     "duration": 0.025135,
     "end_time": "2023-04-10T03:09:32.701668",
     "exception": false,
     "start_time": "2023-04-10T03:09:32.676533",
     "status": "completed"
    },
    "tags": []
   },
   "outputs": [],
   "source": [
    "def feature_engineer(train):\n",
    "    \n",
    "    dfs = []\n",
    "    # 명목형 변수들을 session_id와 level_group 별로 고윳값 개수를 나타내는 새로운 변수를 만듭니다.\n",
    "    for c in CATS:\n",
    "        tmp = train.groupby(['session_id','level_group'])[c].agg('nunique')\n",
    "        tmp.name = tmp.name + '_nunique'\n",
    "        dfs.append(tmp)\n",
    "    # 수치형 변수들을 session_id와 level_group 별로 평균을 나타내는 새로운 변수를 만듭니다.\n",
    "    for c in NUMS:\n",
    "        tmp = train.groupby(['session_id','level_group'])[c].agg('mean')\n",
    "        tmp.name = tmp.name + '_mean'\n",
    "        dfs.append(tmp)\n",
    "    # 수치형 변수들을 session_id와 level_group 별로 표준편차를 나타내는 새로운 변수를 만듭니다.\n",
    "    for c in NUMS:\n",
    "        tmp = train.groupby(['session_id','level_group'])[c].agg('std')\n",
    "        tmp.name = tmp.name + '_std'\n",
    "        dfs.append(tmp)\n",
    "    # 'event_nmae'의 고윳값을 새로운 변수로 만들고 그 값들은 고윳값일때 1, 아니면 0을 나타냅니다.\n",
    "    for c in EVENTS: \n",
    "        train[c] = (train.event_name == c).astype('int8')\n",
    "    # EVENT와 elapsed_time을 session_id와 level_group 별로 합을 나타내는 새로운 변수를 만듭니다.\n",
    "    for c in EVENTS + ['elapsed_time']:\n",
    "        tmp = train.groupby(['session_id','level_group'])[c].agg('sum')\n",
    "        tmp.name = tmp.name + '_sum'\n",
    "        dfs.append(tmp)\n",
    "    # 만들었던 EVENT 칼럼을 제거합니다.\n",
    "    train = train.drop(EVENTS,axis=1)\n",
    "    \n",
    "    # 만들었던 변수들을 다 묶습니다. 여기서 axis=1을 하면 옆으로 붙입니다.\n",
    "    df = pd.concat(dfs,axis=1)\n",
    "    # 결측값들은 -1로 만듭니다.\n",
    "    df = df.fillna(-1)\n",
    "    # 인덱스를 session_id로 만들기 위해 초기화 시킵니다. ()\n",
    "    df = df.reset_index()\n",
    "    # 그 후 인덱스를 session_id로 만듭니다.\n",
    "    df = df.set_index('session_id')\n",
    "    return df"
   ]
  },
  {
   "cell_type": "code",
   "execution_count": 7,
   "id": "7f4922cb",
   "metadata": {
    "execution": {
     "iopub.execute_input": "2023-04-10T03:09:32.719793Z",
     "iopub.status.busy": "2023-04-10T03:09:32.718901Z",
     "iopub.status.idle": "2023-04-10T03:16:08.706489Z",
     "shell.execute_reply": "2023-04-10T03:16:08.704866Z"
    },
    "papermill": {
     "duration": 396.0025,
     "end_time": "2023-04-10T03:16:08.711473",
     "exception": false,
     "start_time": "2023-04-10T03:09:32.708973",
     "status": "completed"
    },
    "tags": []
   },
   "outputs": [
    {
     "name": "stdout",
     "output_type": "stream",
     "text": [
      "Processing train as 10 pieces to avoid memory error... \n",
      "0 , 1 , 2 , 3 , 4 , 5 , 6 , 7 , 8 , 9 , \n",
      "\n",
      "Shape of all train data after feature engineering: (70686, 31)\n",
      "CPU times: user 5min 47s, sys: 21.7 s, total: 6min 9s\n",
      "Wall time: 6min 35s\n"
     ]
    },
    {
     "data": {
      "text/html": [
       "<div>\n",
       "<style scoped>\n",
       "    .dataframe tbody tr th:only-of-type {\n",
       "        vertical-align: middle;\n",
       "    }\n",
       "\n",
       "    .dataframe tbody tr th {\n",
       "        vertical-align: top;\n",
       "    }\n",
       "\n",
       "    .dataframe thead th {\n",
       "        text-align: right;\n",
       "    }\n",
       "</style>\n",
       "<table border=\"1\" class=\"dataframe\">\n",
       "  <thead>\n",
       "    <tr style=\"text-align: right;\">\n",
       "      <th></th>\n",
       "      <th>level_group</th>\n",
       "      <th>event_name_nunique</th>\n",
       "      <th>fqid_nunique</th>\n",
       "      <th>room_fqid_nunique</th>\n",
       "      <th>text_nunique</th>\n",
       "      <th>elapsed_time_mean</th>\n",
       "      <th>level_mean</th>\n",
       "      <th>page_mean</th>\n",
       "      <th>room_coor_x_mean</th>\n",
       "      <th>room_coor_y_mean</th>\n",
       "      <th>...</th>\n",
       "      <th>navigate_click_sum</th>\n",
       "      <th>person_click_sum</th>\n",
       "      <th>cutscene_click_sum</th>\n",
       "      <th>object_click_sum</th>\n",
       "      <th>map_hover_sum</th>\n",
       "      <th>notification_click_sum</th>\n",
       "      <th>map_click_sum</th>\n",
       "      <th>observation_click_sum</th>\n",
       "      <th>checkpoint_sum</th>\n",
       "      <th>elapsed_time_sum</th>\n",
       "    </tr>\n",
       "    <tr>\n",
       "      <th>session_id</th>\n",
       "      <th></th>\n",
       "      <th></th>\n",
       "      <th></th>\n",
       "      <th></th>\n",
       "      <th></th>\n",
       "      <th></th>\n",
       "      <th></th>\n",
       "      <th></th>\n",
       "      <th></th>\n",
       "      <th></th>\n",
       "      <th></th>\n",
       "      <th></th>\n",
       "      <th></th>\n",
       "      <th></th>\n",
       "      <th></th>\n",
       "      <th></th>\n",
       "      <th></th>\n",
       "      <th></th>\n",
       "      <th></th>\n",
       "      <th></th>\n",
       "      <th></th>\n",
       "    </tr>\n",
       "  </thead>\n",
       "  <tbody>\n",
       "    <tr>\n",
       "      <th>20090312431273200</th>\n",
       "      <td>0-4</td>\n",
       "      <td>10</td>\n",
       "      <td>30</td>\n",
       "      <td>7</td>\n",
       "      <td>56</td>\n",
       "      <td>8.579356e+04</td>\n",
       "      <td>1.945455</td>\n",
       "      <td>-1.0</td>\n",
       "      <td>7.701275</td>\n",
       "      <td>-71.413749</td>\n",
       "      <td>...</td>\n",
       "      <td>81.0</td>\n",
       "      <td>22.0</td>\n",
       "      <td>28.0</td>\n",
       "      <td>11.0</td>\n",
       "      <td>4.0</td>\n",
       "      <td>8</td>\n",
       "      <td>2.0</td>\n",
       "      <td>4</td>\n",
       "      <td>1</td>\n",
       "      <td>14155937</td>\n",
       "    </tr>\n",
       "    <tr>\n",
       "      <th>20090312431273200</th>\n",
       "      <td>13-22</td>\n",
       "      <td>10</td>\n",
       "      <td>49</td>\n",
       "      <td>12</td>\n",
       "      <td>168</td>\n",
       "      <td>1.040601e+06</td>\n",
       "      <td>17.402381</td>\n",
       "      <td>-1.0</td>\n",
       "      <td>-130.347170</td>\n",
       "      <td>-162.004310</td>\n",
       "      <td>...</td>\n",
       "      <td>170.0</td>\n",
       "      <td>123.0</td>\n",
       "      <td>60.0</td>\n",
       "      <td>20.0</td>\n",
       "      <td>14.0</td>\n",
       "      <td>10</td>\n",
       "      <td>6.0</td>\n",
       "      <td>3</td>\n",
       "      <td>1</td>\n",
       "      <td>437052322</td>\n",
       "    </tr>\n",
       "    <tr>\n",
       "      <th>20090312431273200</th>\n",
       "      <td>5-12</td>\n",
       "      <td>10</td>\n",
       "      <td>39</td>\n",
       "      <td>11</td>\n",
       "      <td>124</td>\n",
       "      <td>3.572052e+05</td>\n",
       "      <td>8.054054</td>\n",
       "      <td>-1.0</td>\n",
       "      <td>14.306062</td>\n",
       "      <td>-57.269322</td>\n",
       "      <td>...</td>\n",
       "      <td>103.0</td>\n",
       "      <td>104.0</td>\n",
       "      <td>12.0</td>\n",
       "      <td>28.0</td>\n",
       "      <td>9.0</td>\n",
       "      <td>9</td>\n",
       "      <td>8.0</td>\n",
       "      <td>1</td>\n",
       "      <td>1</td>\n",
       "      <td>105732736</td>\n",
       "    </tr>\n",
       "    <tr>\n",
       "      <th>20090312433251036</th>\n",
       "      <td>0-4</td>\n",
       "      <td>11</td>\n",
       "      <td>22</td>\n",
       "      <td>6</td>\n",
       "      <td>49</td>\n",
       "      <td>9.763342e+04</td>\n",
       "      <td>1.870504</td>\n",
       "      <td>0.0</td>\n",
       "      <td>-84.045960</td>\n",
       "      <td>-53.671082</td>\n",
       "      <td>...</td>\n",
       "      <td>49.0</td>\n",
       "      <td>18.0</td>\n",
       "      <td>36.0</td>\n",
       "      <td>15.0</td>\n",
       "      <td>3.0</td>\n",
       "      <td>5</td>\n",
       "      <td>3.0</td>\n",
       "      <td>2</td>\n",
       "      <td>1</td>\n",
       "      <td>13571045</td>\n",
       "    </tr>\n",
       "    <tr>\n",
       "      <th>20090312433251036</th>\n",
       "      <td>13-22</td>\n",
       "      <td>11</td>\n",
       "      <td>73</td>\n",
       "      <td>16</td>\n",
       "      <td>183</td>\n",
       "      <td>2.498852e+06</td>\n",
       "      <td>17.762529</td>\n",
       "      <td>5.1</td>\n",
       "      <td>-30.762282</td>\n",
       "      <td>-142.861892</td>\n",
       "      <td>...</td>\n",
       "      <td>637.0</td>\n",
       "      <td>145.0</td>\n",
       "      <td>65.0</td>\n",
       "      <td>83.0</td>\n",
       "      <td>186.0</td>\n",
       "      <td>14</td>\n",
       "      <td>45.0</td>\n",
       "      <td>5</td>\n",
       "      <td>1</td>\n",
       "      <td>3241011333</td>\n",
       "    </tr>\n",
       "  </tbody>\n",
       "</table>\n",
       "<p>5 rows × 31 columns</p>\n",
       "</div>"
      ],
      "text/plain": [
       "                  level_group  event_name_nunique  fqid_nunique  \\\n",
       "session_id                                                        \n",
       "20090312431273200         0-4                  10            30   \n",
       "20090312431273200       13-22                  10            49   \n",
       "20090312431273200        5-12                  10            39   \n",
       "20090312433251036         0-4                  11            22   \n",
       "20090312433251036       13-22                  11            73   \n",
       "\n",
       "                   room_fqid_nunique  text_nunique  elapsed_time_mean  \\\n",
       "session_id                                                              \n",
       "20090312431273200                  7            56       8.579356e+04   \n",
       "20090312431273200                 12           168       1.040601e+06   \n",
       "20090312431273200                 11           124       3.572052e+05   \n",
       "20090312433251036                  6            49       9.763342e+04   \n",
       "20090312433251036                 16           183       2.498852e+06   \n",
       "\n",
       "                   level_mean  page_mean  room_coor_x_mean  room_coor_y_mean  \\\n",
       "session_id                                                                     \n",
       "20090312431273200    1.945455       -1.0          7.701275        -71.413749   \n",
       "20090312431273200   17.402381       -1.0       -130.347170       -162.004310   \n",
       "20090312431273200    8.054054       -1.0         14.306062        -57.269322   \n",
       "20090312433251036    1.870504        0.0        -84.045960        -53.671082   \n",
       "20090312433251036   17.762529        5.1        -30.762282       -142.861892   \n",
       "\n",
       "                   ...  navigate_click_sum  person_click_sum  \\\n",
       "session_id         ...                                         \n",
       "20090312431273200  ...                81.0              22.0   \n",
       "20090312431273200  ...               170.0             123.0   \n",
       "20090312431273200  ...               103.0             104.0   \n",
       "20090312433251036  ...                49.0              18.0   \n",
       "20090312433251036  ...               637.0             145.0   \n",
       "\n",
       "                   cutscene_click_sum  object_click_sum  map_hover_sum  \\\n",
       "session_id                                                               \n",
       "20090312431273200                28.0              11.0            4.0   \n",
       "20090312431273200                60.0              20.0           14.0   \n",
       "20090312431273200                12.0              28.0            9.0   \n",
       "20090312433251036                36.0              15.0            3.0   \n",
       "20090312433251036                65.0              83.0          186.0   \n",
       "\n",
       "                   notification_click_sum  map_click_sum  \\\n",
       "session_id                                                 \n",
       "20090312431273200                       8            2.0   \n",
       "20090312431273200                      10            6.0   \n",
       "20090312431273200                       9            8.0   \n",
       "20090312433251036                       5            3.0   \n",
       "20090312433251036                      14           45.0   \n",
       "\n",
       "                   observation_click_sum  checkpoint_sum  elapsed_time_sum  \n",
       "session_id                                                                  \n",
       "20090312431273200                      4               1          14155937  \n",
       "20090312431273200                      3               1         437052322  \n",
       "20090312431273200                      1               1         105732736  \n",
       "20090312433251036                      2               1          13571045  \n",
       "20090312433251036                      5               1        3241011333  \n",
       "\n",
       "[5 rows x 31 columns]"
      ]
     },
     "execution_count": 7,
     "metadata": {},
     "output_type": "execute_result"
    }
   ],
   "source": [
    "%%time\n",
    "\n",
    "# PROCESS TRAIN DATA IN PIECES\n",
    "all_pieces = []\n",
    "print(f'Processing train as {PIECES} pieces to avoid memory error... ')\n",
    "for k in range(PIECES):\n",
    "    print(k,', ',end='')\n",
    "    SKIPS = 0\n",
    "    # 10개로 나누었는데 그 10개의 인덱스들을 나타내기 위해 SKIPS에 추가합니다.\n",
    "    if k>0: SKIPS = range(1,skips[k]+1)\n",
    "    train = pd.read_csv('/kaggle/input/predict-student-performance-from-game-play/train.csv',\n",
    "                        # 즉 reads에는 10개의 피스 크기를, skiprows에는 10개의 피스 인덱스를 위한 스킵 범위를 넣습니다.\n",
    "                        nrows=reads[k], skiprows=SKIPS)\n",
    "    # 각각의 피스를 feature_engineer 합니다.\n",
    "    df = feature_engineer(train)\n",
    "    all_pieces.append(df)\n",
    "    \n",
    "# CONCATENATE ALL PIECES\n",
    "print('\\n')\n",
    "# 메모리를 위해 train을 삭제합니다.\n",
    "del train; gc.collect()\n",
    "# 마무리로 10개의 피스를 합쳐 새로운 데이터프레임을 만듭니다. axis=0을 하면 아래로 붙입니다.\n",
    "df = pd.concat(all_pieces, axis=0)\n",
    "print('Shape of all train data after feature engineering:', df.shape )\n",
    "df.head()"
   ]
  },
  {
   "cell_type": "markdown",
   "id": "757a160d",
   "metadata": {
    "papermill": {
     "duration": 0.008974,
     "end_time": "2023-04-10T03:16:08.728862",
     "exception": false,
     "start_time": "2023-04-10T03:16:08.719888",
     "status": "completed"
    },
    "tags": []
   },
   "source": [
    "# Train XGBoost Model\n",
    "We train one model for each of 18 questions. Furthermore, we use data from `level_groups = '0-4'` to train model for questions 1-3, and `level groups '5-12'` to train questions 4 thru 13 and `level groups '13-22'` to train questions 14 thru 18. Because this is the data we get (to predict corresponding questions) from Kaggle's inference API during test inference. We can improve our model by saving a user's previous data from earlier `level_groups` and using that to predict future `level_groups`."
   ]
  },
  {
   "cell_type": "code",
   "execution_count": 8,
   "id": "9332ebca",
   "metadata": {
    "execution": {
     "iopub.execute_input": "2023-04-10T03:16:08.752038Z",
     "iopub.status.busy": "2023-04-10T03:16:08.751144Z",
     "iopub.status.idle": "2023-04-10T03:16:08.766229Z",
     "shell.execute_reply": "2023-04-10T03:16:08.765271Z"
    },
    "papermill": {
     "duration": 0.030619,
     "end_time": "2023-04-10T03:16:08.768833",
     "exception": false,
     "start_time": "2023-04-10T03:16:08.738214",
     "status": "completed"
    },
    "tags": []
   },
   "outputs": [
    {
     "name": "stdout",
     "output_type": "stream",
     "text": [
      "We will train with 30 features\n",
      "We will train with 23562 users info\n"
     ]
    }
   ],
   "source": [
    "# 훈련을 할 때는 level_group을 제외한 나머지 피처들을 이용합니다. \n",
    "FEATURES = [c for c in df.columns if c != 'level_group']\n",
    "print('We will train with', len(FEATURES) ,'features')\n",
    "ALL_USERS = df.index.unique()\n",
    "print('We will train with', len(ALL_USERS) ,'users info')"
   ]
  },
  {
   "cell_type": "code",
   "execution_count": 9,
   "id": "81a60899",
   "metadata": {
    "execution": {
     "iopub.execute_input": "2023-04-10T03:16:08.790621Z",
     "iopub.status.busy": "2023-04-10T03:16:08.789787Z",
     "iopub.status.idle": "2023-04-10T03:19:09.119534Z",
     "shell.execute_reply": "2023-04-10T03:19:09.118121Z"
    },
    "papermill": {
     "duration": 180.344648,
     "end_time": "2023-04-10T03:19:09.122462",
     "exception": false,
     "start_time": "2023-04-10T03:16:08.777814",
     "status": "completed"
    },
    "tags": []
   },
   "outputs": [
    {
     "name": "stdout",
     "output_type": "stream",
     "text": [
      "#########################\n",
      "### Fold 1\n",
      "#########################\n",
      "1(169), 2(174), 3(141), 4(234), 5(131), 6(152), 7(76), 8(83), 9(193), 10(262), 11(126), 12(101), 13(141), 14(327), 15(215), 16(64), 17(62), 18(137), \n",
      "#########################\n",
      "### Fold 2\n",
      "#########################\n",
      "1(126), 2(159), 3(99), 4(224), 5(95), 6(115), 7(111), 8(57), 9(141), 10(206), 11(207), 12(131), 13(93), 14(215), 15(232), 16(89), 17(69), 18(112), \n",
      "#########################\n",
      "### Fold 3\n",
      "#########################\n",
      "1(215), 2(118), 3(121), 4(197), 5(167), 6(175), 7(120), 8(62), 9(132), 10(121), 11(71), 12(86), 13(87), 14(210), 15(255), 16(75), 17(96), 18(159), \n",
      "#########################\n",
      "### Fold 4\n",
      "#########################\n",
      "1(151), 2(135), 3(99), 4(242), 5(177), 6(145), 7(155), 8(107), 9(128), 10(127), 11(105), 12(99), 13(160), 14(295), 15(262), 16(64), 17(60), 18(196), \n",
      "#########################\n",
      "### Fold 5\n",
      "#########################\n",
      "1(126), 2(117), 3(147), 4(242), 5(116), 6(117), 7(138), 8(63), 9(132), 10(152), 11(83), 12(84), 13(175), 14(128), 15(259), 16(54), 17(87), 18(157), \n"
     ]
    }
   ],
   "source": [
    "# 완성된 데이터프레임을 KFold를 이용하여 계산하려고 합니다.\n",
    "# n_splits = 5 이기 때문에 전체를 5개로 나누고 한개는 테스트, 나머지는 훈련으로 이용합니다.\n",
    "gkf = GroupKFold(n_splits=5)\n",
    "# 각 session_id들의 question number(1~18) 문제들에 대한 정답을 넣을 데이터프레임을 따로 만듭니다(처음에는 모두 0으로 채웁니다).\n",
    "oof = pd.DataFrame(data=np.zeros((len(ALL_USERS),18)), index=ALL_USERS)\n",
    "# 모델을 넣을 dict를 만듭니다.\n",
    "models = {}\n",
    "\n",
    "# COMPUTE CV SCORE WITH 5 GROUP K FOLD\n",
    "# KFold를 나눌 때, X에 데이터를, groups에 인덱스들을 넣어 4개는 train데이터, 1개는 test데이터입니다(groups에 index를 넣었기 때문에 나눠지는것은 index입니다.)\n",
    "for i, (train_index, test_index) in enumerate(gkf.split(X=df, groups=df.index)): \n",
    "    print('#'*25)\n",
    "    print('### Fold',i+1)\n",
    "    print('#'*25)\n",
    "    \n",
    "    # XGB모델의 파라미터들을 정의합니다. (그리디 최적화 or 베이지안 최적화를 이용하여 최적화를 할 수 있습니다.)\n",
    "    xgb_params = {\n",
    "    'objective' : 'binary:logistic',\n",
    "    'eval_metric':'logloss',\n",
    "    'learning_rate': 0.05,\n",
    "    'max_depth': 4,\n",
    "    'n_estimators': 1000,\n",
    "    'early_stopping_rounds': 50,\n",
    "    'tree_method':'hist',\n",
    "    'subsample':0.8,\n",
    "    'colsample_bytree': 0.4,\n",
    "    'use_label_encoder' : False}\n",
    "    \n",
    "    # ITERATE THRU QUESTIONS 1 THRU 18\n",
    "    for t in range(1,19):\n",
    "        \n",
    "        # USE THIS TRAIN DATA WITH THESE QUESTIONS\n",
    "        # level_group이 0-4일 때, 1~3번, 5-12일 때, 4~13번, 13-22일 때, 14~18번의 question number가 상응되기 때문에 \n",
    "        # question number에 따라 level_group 별로 데이터를 나눠 훈련합니다.\n",
    "        if t<=3: grp = '0-4'\n",
    "        elif t<=13: grp = '5-12'\n",
    "        elif t<=22: grp = '13-22'\n",
    "            \n",
    "        # TRAIN DATA\n",
    "        train_x = df.iloc[train_index]\n",
    "        train_x = train_x.loc[train_x.level_group == grp]\n",
    "        train_users = train_x.index.values\n",
    "        train_y = targets.loc[targets.q==t].set_index('session').loc[train_users]\n",
    "        \n",
    "        # VALID DATA\n",
    "        valid_x = df.iloc[test_index]\n",
    "        valid_x = valid_x.loc[valid_x.level_group == grp]\n",
    "        valid_users = valid_x.index.values\n",
    "        valid_y = targets.loc[targets.q==t].set_index('session').loc[valid_users]\n",
    "        \n",
    "        # TRAIN MODEL        \n",
    "        clf =  XGBClassifier(**xgb_params)\n",
    "        clf.fit(train_x[FEATURES].astype('float32'), train_y['correct'],\n",
    "                # 검증용 데이터를 넣습니다.\n",
    "                eval_set=[ (valid_x[FEATURES].astype('float32'), valid_y['correct']) ],\n",
    "                # verbose는 학습마다 평가값들에 대한 메세지를 출력할지 안할지를 결정합니다. 0은 출력 x\n",
    "                verbose=0)\n",
    "        # 각 문제별 best_ntree 값들을 출력합니다.\n",
    "        print(f'{t}({clf.best_ntree_limit}), ',end='')\n",
    "        \n",
    "        # SAVE MODEL, PREDICT VALID OOF\n",
    "        # 모델을 저장합니다(이름은 level_group_문제번호)\n",
    "        models[f'{grp}_{t}'] = clf\n",
    "        # 검증용 index와 문제번호열에 검증용 데이터들에 대한 확률을 넣습니다. \n",
    "        oof.loc[valid_users, t-1] = clf.predict_proba(valid_x[FEATURES].astype('float32'))[:,1]\n",
    "        \n",
    "    print()"
   ]
  },
  {
   "cell_type": "markdown",
   "id": "7e6b4026",
   "metadata": {
    "papermill": {
     "duration": 0.014807,
     "end_time": "2023-04-10T03:19:09.152369",
     "exception": false,
     "start_time": "2023-04-10T03:19:09.137562",
     "status": "completed"
    },
    "tags": []
   },
   "source": [
    "# Compute CV Score\n",
    "We need to convert prediction probabilities into `1s` and `0s`. The competition metric is F1 Score which is the harmonic mean of precision and recall. Let's find the optimal threshold for `p > threshold` when to predict `1` and when to predict `0` to maximize F1 Score."
   ]
  },
  {
   "cell_type": "code",
   "execution_count": 10,
   "id": "5005d8d3",
   "metadata": {
    "execution": {
     "iopub.execute_input": "2023-04-10T03:19:09.182227Z",
     "iopub.status.busy": "2023-04-10T03:19:09.181778Z",
     "iopub.status.idle": "2023-04-10T03:19:09.334264Z",
     "shell.execute_reply": "2023-04-10T03:19:09.332522Z"
    },
    "papermill": {
     "duration": 0.170856,
     "end_time": "2023-04-10T03:19:09.337333",
     "exception": false,
     "start_time": "2023-04-10T03:19:09.166477",
     "status": "completed"
    },
    "tags": []
   },
   "outputs": [],
   "source": [
    "# PUT TRUE LABELS INTO DATAFRAME WITH 18 COLUMNS\n",
    "# 실제값들을 넣기 위해 확률값들인 oof의 카피본을 만듭니다.\n",
    "true = oof.copy()\n",
    "for k in range(18):\n",
    "    # GET TRUE LABELS\n",
    "    tmp = targets.loc[targets.q == k+1].set_index('session').loc[ALL_USERS]\n",
    "    # 각 문제번호별 session_id들의 실제값들을 true에 넣습니다.\n",
    "    true[k] = tmp.correct.values"
   ]
  },
  {
   "cell_type": "code",
   "execution_count": 11,
   "id": "52e9caee",
   "metadata": {
    "execution": {
     "iopub.execute_input": "2023-04-10T03:19:09.367800Z",
     "iopub.status.busy": "2023-04-10T03:19:09.367374Z",
     "iopub.status.idle": "2023-04-10T03:19:18.269803Z",
     "shell.execute_reply": "2023-04-10T03:19:18.267851Z"
    },
    "papermill": {
     "duration": 8.922422,
     "end_time": "2023-04-10T03:19:18.273732",
     "exception": false,
     "start_time": "2023-04-10T03:19:09.351310",
     "status": "completed"
    },
    "tags": []
   },
   "outputs": [
    {
     "name": "stdout",
     "output_type": "stream",
     "text": [
      "0.40, 0.41, 0.42, 0.43, 0.44, 0.45, 0.46, 0.47, 0.48, 0.49, 0.50, 0.51, 0.52, 0.53, 0.54, 0.55, 0.56, 0.57, 0.58, 0.59, 0.60, 0.61, 0.62, 0.63, 0.64, 0.65, 0.66, 0.67, 0.68, 0.69, 0.70, 0.71, 0.72, 0.73, 0.74, 0.75, 0.76, 0.77, 0.78, 0.79, 0.80, "
     ]
    }
   ],
   "source": [
    "# FIND BEST THRESHOLD TO CONVERT PROBS INTO 1s AND 0s\n",
    "# 확률들을 그냥 0.5를 기준으로 1, 0을 나타낼 수도 있지만 이보다는 쓰래드의 범위를 정의하여 이 쓰래드보다 크다면 1 작으면 0으로 정의합니다.\n",
    "# 그 후 평가지표(이 대회의 경우 F1 Score)에 대한 값이 가장 큰 쓰래드를 구하여 마지막에 test에서 사용합니다.\n",
    "scores = []; thresholds = []\n",
    "best_score = 0; best_threshold = 0\n",
    "\n",
    "for threshold in np.arange(0.4,0.81,0.01): # 쓰래드를 0.4부터 0.81까지 0.01만큼 커집니다.\n",
    "    print(f'{threshold:.02f}, ',end='')\n",
    "    # 쓰래드보다 크다면 1로 아니면 0으로 바꾼 값들을 구합니다.\n",
    "    preds = (oof.values.reshape((-1))>threshold).astype('int')\n",
    "    # 실젯값들과 구한 값들을 f1_score을 구합니다. 여기서 average='macro'로 한다면 각 클래스에 대해 f1 score을 구한 뒤 평균을 내어 f1 score로 나타냅니다.\n",
    "    # f1_score의 average 파라미터에 대한 자세한 내용은 https://hongl.tistory.com/136에 표로 자세하게 나옵니다.\n",
    "    m = f1_score(true.values.reshape((-1)), preds, average='macro')   \n",
    "    scores.append(m)\n",
    "    thresholds.append(threshold)\n",
    "    # best_score, best_threshold를 구합니다.\n",
    "    if m>best_score:\n",
    "        best_score = m\n",
    "        best_threshold = threshold"
   ]
  },
  {
   "cell_type": "code",
   "execution_count": 12,
   "id": "8cd90a33",
   "metadata": {
    "execution": {
     "iopub.execute_input": "2023-04-10T03:19:18.309281Z",
     "iopub.status.busy": "2023-04-10T03:19:18.308795Z",
     "iopub.status.idle": "2023-04-10T03:19:18.621663Z",
     "shell.execute_reply": "2023-04-10T03:19:18.619813Z"
    },
    "papermill": {
     "duration": 0.334286,
     "end_time": "2023-04-10T03:19:18.624985",
     "exception": false,
     "start_time": "2023-04-10T03:19:18.290699",
     "status": "completed"
    },
    "tags": []
   },
   "outputs": [
    {
     "data": {
      "image/png": "[encoded data removed]",
      "text/plain": [
       "<Figure size 1440x360 with 1 Axes>"
      ]
     },
     "metadata": {
      "needs_background": "light"
     },
     "output_type": "display_data"
    }
   ],
   "source": [
    "import matplotlib.pyplot as plt\n",
    "\n",
    "# PLOT THRESHOLD VS. F1_SCORE\n",
    "plt.figure(figsize=(20,5))\n",
    "plt.plot(thresholds,scores,'-o',color='blue')\n",
    "plt.scatter([best_threshold], [best_score], color='blue', s=300, alpha=1)\n",
    "plt.xlabel('Threshold',size=14)\n",
    "plt.ylabel('Validation F1 Score',size=14)\n",
    "plt.title(f'Threshold vs. F1_Score with Best F1_Score = {best_score:.3f} at Best Threshold = {best_threshold:.3}',size=18)\n",
    "plt.show()"
   ]
  },
  {
   "cell_type": "code",
   "execution_count": 13,
   "id": "f5d4fde2",
   "metadata": {
    "execution": {
     "iopub.execute_input": "2023-04-10T03:19:18.663311Z",
     "iopub.status.busy": "2023-04-10T03:19:18.662422Z",
     "iopub.status.idle": "2023-04-10T03:19:19.077079Z",
     "shell.execute_reply": "2023-04-10T03:19:19.076109Z"
    },
    "papermill": {
     "duration": 0.436611,
     "end_time": "2023-04-10T03:19:19.079496",
     "exception": false,
     "start_time": "2023-04-10T03:19:18.642885",
     "status": "completed"
    },
    "tags": []
   },
   "outputs": [
    {
     "name": "stdout",
     "output_type": "stream",
     "text": [
      "When using optimal threshold...\n",
      "Q0: F1 = 0.6034594377603127\n",
      "Q1: F1 = 0.49464879356568364\n",
      "Q2: F1 = 0.48845826250897423\n",
      "Q3: F1 = 0.6220599260021209\n",
      "Q4: F1 = 0.5770813322576551\n",
      "Q5: F1 = 0.6083358163755984\n",
      "Q6: F1 = 0.5866178732203022\n",
      "Q7: F1 = 0.5368855565059727\n",
      "Q8: F1 = 0.6020393146285845\n",
      "Q9: F1 = 0.5234733521119048\n",
      "Q10: F1 = 0.5914896650144894\n",
      "Q11: F1 = 0.4949877940815682\n",
      "Q12: F1 = 0.4354152229376673\n",
      "Q13: F1 = 0.6118965470028668\n",
      "Q14: F1 = 0.517867851432588\n",
      "Q15: F1 = 0.46605330507955783\n",
      "Q16: F1 = 0.537622501857724\n",
      "Q17: F1 = 0.4890228020662803\n",
      "==> Overall F1 = 0.6791782777190463\n"
     ]
    }
   ],
   "source": [
    "print('When using optimal threshold...')\n",
    "for k in range(18):\n",
    "        \n",
    "    # COMPUTE F1 SCORE PER QUESTION\n",
    "    # best_threshold에 대한 값들로 하여금 f1_score값들을 구합니다.\n",
    "    m = f1_score(true[k].values, (oof[k].values>best_threshold).astype('int'), average='macro')\n",
    "    print(f'Q{k}: F1 =',m)\n",
    "    \n",
    "# COMPUTE F1 SCORE OVERALL\n",
    "# 전체 데이터에 대한 best_threshold에 대한 값들로 하여금 f1_score 값들을 구합니다.\n",
    "m = f1_score(true.values.reshape((-1)), (oof.values.reshape((-1))>best_threshold).astype('int'), average='macro')\n",
    "print('==> Overall F1 =',m)"
   ]
  },
  {
   "cell_type": "markdown",
   "id": "f37e08f1",
   "metadata": {
    "papermill": {
     "duration": 0.019255,
     "end_time": "2023-04-10T03:19:19.115511",
     "exception": false,
     "start_time": "2023-04-10T03:19:19.096256",
     "status": "completed"
    },
    "tags": []
   },
   "source": [
    "# Infer Test Data"
   ]
  },
  {
   "cell_type": "code",
   "execution_count": 14,
   "id": "50041e6d",
   "metadata": {
    "execution": {
     "iopub.execute_input": "2023-04-10T03:19:19.153694Z",
     "iopub.status.busy": "2023-04-10T03:19:19.152885Z",
     "iopub.status.idle": "2023-04-10T03:19:19.327414Z",
     "shell.execute_reply": "2023-04-10T03:19:19.326318Z"
    },
    "papermill": {
     "duration": 0.197503,
     "end_time": "2023-04-10T03:19:19.330758",
     "exception": false,
     "start_time": "2023-04-10T03:19:19.133255",
     "status": "completed"
    },
    "tags": []
   },
   "outputs": [],
   "source": [
    "# IMPORT KAGGLE API\n",
    "# kaggle 데이터에서 jo_wilder 폴더에 test 데이터 뿐만아니라 숨겨진 test 데이터, submission들도 들어있습니다. \n",
    "# 그래서 이를 import 하여 test데이터들을 구합니다.\n",
    "import jo_wilder\n",
    "env = jo_wilder.make_env()\n",
    "iter_test = env.iter_test()\n",
    "\n",
    "# CLEAR MEMORY\n",
    "# 마무리를 위해 필요없는 데이터들은 삭제합니다.\n",
    "import gc\n",
    "del targets, df, oof, true\n",
    "_ = gc.collect()"
   ]
  },
  {
   "cell_type": "code",
   "execution_count": 15,
   "id": "c261a7c2",
   "metadata": {
    "execution": {
     "iopub.execute_input": "2023-04-10T03:19:19.367078Z",
     "iopub.status.busy": "2023-04-10T03:19:19.366674Z",
     "iopub.status.idle": "2023-04-10T03:19:19.751661Z",
     "shell.execute_reply": "2023-04-10T03:19:19.750315Z"
    },
    "papermill": {
     "duration": 0.405731,
     "end_time": "2023-04-10T03:19:19.754336",
     "exception": false,
     "start_time": "2023-04-10T03:19:19.348605",
     "status": "completed"
    },
    "tags": []
   },
   "outputs": [
    {
     "name": "stdout",
     "output_type": "stream",
     "text": [
      "This version of the API is not optimized and should not be used to estimate the runtime of your code on the hidden test set.\n"
     ]
    }
   ],
   "source": [
    "limits = {'0-4':(1,4), '5-12':(4,14), '13-22':(14,19)}\n",
    "\n",
    "for (test, sample_submission) in iter_test:\n",
    "    \n",
    "    # FEATURE ENGINEER TEST DATA\n",
    "    df = feature_engineer(test)\n",
    "    \n",
    "    # INFER TEST DATA\n",
    "    # 각 test 데이터들의 level_group에 대한 question number의 값들을 구합니다.\n",
    "    grp = test.level_group.values[0]\n",
    "    a,b = limits[grp]\n",
    "    for t in range(a,b):\n",
    "        # 저장된 모델을 불러옵니다.\n",
    "        clf = models[f'{grp}_{t}']\n",
    "        p = clf.predict_proba(df[FEATURES].astype('float32'))[0,1]\n",
    "        # submission 데이터의 session_id + 문제 번호를 구합니다.\n",
    "        mask = sample_submission.session_id.str.contains(f'q{t}')\n",
    "        # 각 문제 번호에 대한 값들을 넣습니다.\n",
    "        sample_submission.loc[mask,'correct'] = int( p > best_threshold )\n",
    "    # 저장\n",
    "    env.predict(sample_submission)"
   ]
  },
  {
   "cell_type": "markdown",
   "id": "a2c02369",
   "metadata": {
    "papermill": {
     "duration": 0.017382,
     "end_time": "2023-04-10T03:19:19.788895",
     "exception": false,
     "start_time": "2023-04-10T03:19:19.771513",
     "status": "completed"
    },
    "tags": []
   },
   "source": [
    "# EDA submission.csv"
   ]
  },
  {
   "cell_type": "code",
   "execution_count": 16,
   "id": "db5da3c1",
   "metadata": {
    "execution": {
     "iopub.execute_input": "2023-04-10T03:19:19.829591Z",
     "iopub.status.busy": "2023-04-10T03:19:19.828251Z",
     "iopub.status.idle": "2023-04-10T03:19:19.842857Z",
     "shell.execute_reply": "2023-04-10T03:19:19.841906Z"
    },
    "papermill": {
     "duration": 0.037025,
     "end_time": "2023-04-10T03:19:19.844978",
     "exception": false,
     "start_time": "2023-04-10T03:19:19.807953",
     "status": "completed"
    },
    "tags": []
   },
   "outputs": [
    {
     "name": "stdout",
     "output_type": "stream",
     "text": [
      "(54, 2)\n"
     ]
    },
    {
     "data": {
      "text/html": [
       "<div>\n",
       "<style scoped>\n",
       "    .dataframe tbody tr th:only-of-type {\n",
       "        vertical-align: middle;\n",
       "    }\n",
       "\n",
       "    .dataframe tbody tr th {\n",
       "        vertical-align: top;\n",
       "    }\n",
       "\n",
       "    .dataframe thead th {\n",
       "        text-align: right;\n",
       "    }\n",
       "</style>\n",
       "<table border=\"1\" class=\"dataframe\">\n",
       "  <thead>\n",
       "    <tr style=\"text-align: right;\">\n",
       "      <th></th>\n",
       "      <th>session_id</th>\n",
       "      <th>correct</th>\n",
       "    </tr>\n",
       "  </thead>\n",
       "  <tbody>\n",
       "    <tr>\n",
       "      <th>0</th>\n",
       "      <td>20090109393214576_q1</td>\n",
       "      <td>1</td>\n",
       "    </tr>\n",
       "    <tr>\n",
       "      <th>1</th>\n",
       "      <td>20090312143683264_q1</td>\n",
       "      <td>1</td>\n",
       "    </tr>\n",
       "    <tr>\n",
       "      <th>2</th>\n",
       "      <td>20090312331414616_q1</td>\n",
       "      <td>1</td>\n",
       "    </tr>\n",
       "    <tr>\n",
       "      <th>3</th>\n",
       "      <td>20090109393214576_q2</td>\n",
       "      <td>1</td>\n",
       "    </tr>\n",
       "    <tr>\n",
       "      <th>4</th>\n",
       "      <td>20090312143683264_q2</td>\n",
       "      <td>1</td>\n",
       "    </tr>\n",
       "  </tbody>\n",
       "</table>\n",
       "</div>"
      ],
      "text/plain": [
       "             session_id  correct\n",
       "0  20090109393214576_q1        1\n",
       "1  20090312143683264_q1        1\n",
       "2  20090312331414616_q1        1\n",
       "3  20090109393214576_q2        1\n",
       "4  20090312143683264_q2        1"
      ]
     },
     "execution_count": 16,
     "metadata": {},
     "output_type": "execute_result"
    }
   ],
   "source": [
    "df = pd.read_csv('submission.csv')\n",
    "print( df.shape )\n",
    "df.head()"
   ]
  },
  {
   "cell_type": "code",
   "execution_count": 17,
   "id": "eb6ab533",
   "metadata": {
    "execution": {
     "iopub.execute_input": "2023-04-10T03:19:19.882554Z",
     "iopub.status.busy": "2023-04-10T03:19:19.881438Z",
     "iopub.status.idle": "2023-04-10T03:19:19.889035Z",
     "shell.execute_reply": "2023-04-10T03:19:19.886951Z"
    },
    "papermill": {
     "duration": 0.029463,
     "end_time": "2023-04-10T03:19:19.891703",
     "exception": false,
     "start_time": "2023-04-10T03:19:19.862240",
     "status": "completed"
    },
    "tags": []
   },
   "outputs": [
    {
     "name": "stdout",
     "output_type": "stream",
     "text": [
      "0.6666666666666666\n"
     ]
    }
   ],
   "source": [
    "print(df.correct.mean())"
   ]
  },
  {
   "cell_type": "code",
   "execution_count": null,
   "id": "cf02930c",
   "metadata": {
    "papermill": {
     "duration": 0.017439,
     "end_time": "2023-04-10T03:19:19.928253",
     "exception": false,
     "start_time": "2023-04-10T03:19:19.910814",
     "status": "completed"
    },
    "tags": []
   },
   "outputs": [],
   "source": []
  }
 ],
 "metadata": {
  "kernelspec": {
   "display_name": "Python 3 (ipykernel)",
   "language": "python",
   "name": "python3"
  },
  "language_info": {
   "codemirror_mode": {
    "name": "ipython",
    "version": 3
   },
   "file_extension": ".py",
   "mimetype": "text/x-python",
   "name": "python",
   "nbconvert_exporter": "python",
   "pygments_lexer": "ipython3",
   "version": "3.9.12"
  },
  "papermill": {
   "default_parameters": {},
   "duration": 699.584397,
   "end_time": "2023-04-10T03:19:21.077548",
   "environment_variables": {},
   "exception": null,
   "input_path": "__notebook__.ipynb",
   "output_path": "__notebook__.ipynb",
   "parameters": {},
   "start_time": "2023-04-10T03:07:41.493151",
   "version": "2.3.4"
  }
 },
 "nbformat": 4,
 "nbformat_minor": 5
}
